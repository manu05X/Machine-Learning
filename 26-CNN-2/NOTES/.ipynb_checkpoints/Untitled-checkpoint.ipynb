{
 "cells": [
  {
   "cell_type": "markdown",
   "metadata": {},
   "source": [
    "#### Architecture of network\n",
    "\n",
    "How many parameters are needed at CNN layer 1 (as discussed in video) with 32 units. Assuming that we aren’t using any bias on CNN layers. There is one channel and we are using square filter with width and length as 5."
   ]
  },
  {
   "cell_type": "markdown",
   "metadata": {},
   "source": [
    "ANS= \n",
    "\n",
    "weights for one unit is 5 * 5 * 1\n",
    "\n",
    "\n",
    "hence for 32 units will be\n",
    "\n",
    "\n",
    "5 * 5* 1 * 32\n",
    "\n",
    "\n",
    "800\n",
    "\n"
   ]
  },
  {
   "cell_type": "markdown",
   "metadata": {},
   "source": [
    "#### No. of Parameters\n",
    "\n",
    "How many parameters are needed at CNN layer 2 (as discussed in video) with 64 units. Assuming that we aren’t using any bias on CNN layers. There is one channel and we are using square filter with width and length as 5."
   ]
  },
  {
   "cell_type": "markdown",
   "metadata": {},
   "source": [
    "ANS:51200 = 5*5*32*64\n",
    "\n",
    "5\\* 5\\*32\\*64 = 51200 ; \n",
    "\n",
    "Weights required for one unit are 5\\*5\\*32(i.e from conv1 layer we are getting 32 units ).\n",
    "\n",
    "Thus weights for 64 units will be - 5\\*5\\*32\\*64"
   ]
  },
  {
   "cell_type": "markdown",
   "metadata": {},
   "source": [
    "#### Parameters at Dense layer\n",
    "\n",
    "How many parameters are needed at Dense Layer(as discussed in video) with 1024 units. Assuming that we will use bias for every unit in Dense Layer.\n",
    "\n",
    "\n",
    "ANS: 7\\*7\\* 64\\*1024 + 1024 = 3212288\n",
    "\n"
   ]
  },
  {
   "cell_type": "markdown",
   "metadata": {},
   "source": [
    "### Parameters at output layer\n",
    "\n",
    "How many parameters are needed at Output Layer as discussed in the video.\n",
    "\n",
    "ANS:10250\n",
    "\n",
    "Output Layer : 1024 * 10 + 10 = 10250\n"
   ]
  },
  {
   "cell_type": "markdown",
   "metadata": {},
   "source": [
    "##### Total Parameters\n",
    "\n",
    "\n",
    "In the current architectures, let’s assume that we have input images of size 64*64 and we use a stride of 2 in both convolution layers. Keeping rest of the parameters same in the architecture. How many parameters are we going to train our architecture on?\n",
    "\n",
    "\n",
    "ANS: 1111850\n",
    "\n",
    "Parameters need at every layer CNN Layer 1 : 5 * 5 * 1 * 32 = 800 \n",
    "\n",
    "CNN Layer 2 : 5 * 5 * 32 * 64 = 51200 \n",
    "\n",
    "Dense Layer : 4 * 4 * 64 * 1024 + 1024 = 1049600 Output Layer : 1024 * 10 + 10 = 10250\n",
    "\n",
    "Ans : 800 + 51200 + 1049600 + 10250 = 1111850\n",
    "\n",
    "OR\n",
    "\n",
    "Parameters need at every layer CNN Layer 1 : 5 * 5 * 1 * 32 = 800 \n",
    "\n",
    "CNN Layer 2 : 5 * 5 * 32 * 64 = 51200 \n",
    "\n",
    "Dense Layer : 4 * 4 * 64 * 1024 + 1024 = 1049600 \n",
    "\n",
    "Output Layer : 1024 * 10 + 10 = 10250 Ans : 800 + 51200 + 1049600 + 10250 = 1111850\n"
   ]
  },
  {
   "cell_type": "markdown",
   "metadata": {},
   "source": [
    "#### Weights initialization\n",
    "Q>\n",
    "\n",
    "Changing the input width & input height while keeping all others parameters will change the weights at following layers:\n",
    "\n",
    "* Options\n",
    "        \n",
    "        Convolution Layer 1\n",
    "        \n",
    "        Convolution Layer 2\n",
    "        \n",
    "        Dense Layer(Hidden Layer 1) \n",
    "        \n",
    "        Output Layer\n",
    "        \n",
    "Correct Answer: 3"
   ]
  },
  {
   "cell_type": "markdown",
   "metadata": {},
   "source": [
    "### No. of Weights in cnn\n",
    "Q>\n",
    "Number of weights to be trained in a cnn layer depends upon?\n",
    "\n",
    "* Options\n",
    "    \n",
    "       * Size of input coming to the layer. \n",
    "   \n",
    "       * Value of Stride\n",
    "    \n",
    "       * Number of units in that layer. \n",
    "    \n",
    "       * Value of padding\n",
    "    \n",
    "       * Filter size\n",
    "    \n",
    "Correct Answer: 1,3,5\n",
    "\n",
    "Solution Description\n",
    "\n",
    "It depends upon the number of channels in the input coming to the \n",
    "\n",
    "layer along with number of units and size of filter."
   ]
  },
  {
   "cell_type": "markdown",
   "metadata": {},
   "source": [
    "### TensorFlow Code\n",
    "\n",
    "What activation function did we use on the output layer?\n",
    "\n",
    "* Options\n",
    "       \n",
    "       * Identity \n",
    "        \n",
    "       * Relu\n",
    "       \n",
    "       * Sigmoid\n",
    "       \n",
    "       * Tanh\n",
    "       \n",
    "Correct Answer: 1"
   ]
  },
  {
   "cell_type": "markdown",
   "metadata": {},
   "source": [
    "### Pooling Layer\n",
    "\n",
    "It compulsory to have a pooling layer after every convolution layer.\n",
    "\n",
    "* Options\n",
    "       \n",
    "       * True\n",
    "       \n",
    "       * False\n",
    "       \n",
    "Correct Answer: 2"
   ]
  },
  {
   "cell_type": "markdown",
   "metadata": {},
   "source": [
    "#### Conv & maxpool code\n",
    "Q>\n",
    "Where all we need to make changes in our code if we change the padding in conv & maxpool to “valid”?\n",
    "\n",
    "* Options\n",
    "        \n",
    "     * Weights of the convolution layers\n",
    "        \n",
    "     * Weights of the output layer\n",
    "        \n",
    "     * Weights of the hidden layer \n",
    "        \n",
    "     * Reshaping code before feeding into convolution layer\n",
    "        \n",
    "     * Reshaping code before feeding into Hidden layer \n",
    "        \n",
    "     * No Changes are required\n",
    "     \n",
    "Correct Answer:3,5"
   ]
  },
  {
   "cell_type": "markdown",
   "metadata": {},
   "source": [
    "#### Size of output\n",
    "Q>\n",
    "What would be size of output from the following max-pooling code for an input of size 28*28*1?\n",
    "\n",
    "        tf.nn.max_pool(x, padding=\"SAME\", ksize=[1, 2, 2, 1], strides=[1, 1, 1, 1])\n",
    "        \n",
    "* Options\n",
    "        \n",
    "     * 14 * 14 * 1\n",
    "\n",
    "     * 7 * 7 * 1\n",
    "     \n",
    "     * 56 * 56 * 1\n",
    "\n",
    "     * 28 * 28 * 1 \n",
    "     \n",
    "Correct Answer: 4\n"
   ]
  },
  {
   "cell_type": "markdown",
   "metadata": {},
   "source": [
    "#### Size of output\n",
    "Q>\n",
    "What would be size of output from the following max-pooling code for an input of size 28*28*1?\n",
    "\n",
    "        tf.nn.max_pool(x, padding=\"SAME\", ksize=[1, 2, 2, 1], strides=[1, 1, 1, 1])\n",
    "        \n",
    "* Options\n",
    "        \n",
    "     * 10 * 10 * 1\n",
    "\n",
    "     * 9 * 9 * 1 \n",
    "\n",
    "     * 84 * 84 * 1\n",
    "\n",
    "     * 28 * 28 * 1\n",
    "\n",
    "Correct Answer:2\n"
   ]
  },
  {
   "cell_type": "markdown",
   "metadata": {},
   "source": [
    "#### Dropout layer\n",
    "Q>\n",
    "Adding a dropout layer might help us in:\n",
    "\n",
    "        tf.nn.max_pool(x, padding=\"SAME\", ksize=[1, 2, 2, 1], strides=[1, 1, 1, 1])\n",
    "        \n",
    "* Options\n",
    "        \n",
    "     * Improving training accuracy\n",
    "\n",
    "     * Avoiding overfitting \n",
    "\n",
    "     * Avoiding underfitting\n",
    "\n",
    "     * None of the above\n",
    "\n",
    "Correct Answer:2\n"
   ]
  },
  {
   "cell_type": "markdown",
   "metadata": {},
   "source": [
    "#### Keep probability\n",
    "Q>\n",
    "Keep probability of dropout layer during testing should be:\n",
    "\n",
    "        tf.nn.max_pool(x, padding=\"SAME\", ksize=[1, 2, 2, 1], strides=[1, 1, 1, 1])\n",
    "        \n",
    "* Options\n",
    "        \n",
    "     * Same as training time\n",
    "\n",
    "     * 0 \n",
    "\n",
    "     * 1\n",
    "\n",
    "     * Doesn’t matter\n",
    "\n",
    "Correct Answer:3"
   ]
  },
  {
   "cell_type": "markdown",
   "metadata": {},
   "source": [
    "#### Keep probability\n",
    "Q>\n",
    "What statements are true about output of a dropout layer with 0.8 as keep probability and n as the input size?\n",
    "        \n",
    "* Options\n",
    "        \n",
    "     * Output size will be exactly 0.8*n\n",
    "\n",
    "     * Output size will be approximately 0.8*n \n",
    "\n",
    "     * Output size will be same as n with exactly 0.2*n entries converted to 0\n",
    "\n",
    "     * Output size will be same as n with approximately 0.2*n entries converted to 0 \n",
    "\n",
    "Correct Answer:4"
   ]
  },
  {
   "cell_type": "markdown",
   "metadata": {},
   "source": [
    "#### 0 Keep probability\n",
    "Q>\n",
    "What would be the effect of providing 0 keep probability to the dropout layer in case of tensorflow? (Hint: Read Documentation)\n",
    "        \n",
    "* Options\n",
    "        \n",
    "     * We will get an error \n",
    "\n",
    "     * This layer will be ignored\n",
    "\n",
    "     * We will get 0 output irrespective of input.\n",
    "\n",
    "     * Tensorflow will ignore the dropout layer as well as the layer before it. \n",
    "\n",
    "Correct Answer:1"
   ]
  },
  {
   "cell_type": "code",
   "execution_count": null,
   "metadata": {},
   "outputs": [],
   "source": []
  }
 ],
 "metadata": {
  "kernelspec": {
   "display_name": "Python 3",
   "language": "python",
   "name": "python3"
  },
  "language_info": {
   "codemirror_mode": {
    "name": "ipython",
    "version": 3
   },
   "file_extension": ".py",
   "mimetype": "text/x-python",
   "name": "python",
   "nbconvert_exporter": "python",
   "pygments_lexer": "ipython3",
   "version": "3.7.1"
  }
 },
 "nbformat": 4,
 "nbformat_minor": 2
}
