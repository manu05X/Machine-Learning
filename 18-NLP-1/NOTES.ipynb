{
 "cells": [
  {
   "cell_type": "markdown",
   "metadata": {},
   "source": [
    "#### Words as Features\n",
    "\n",
    "Q Challenge(s) in using words as features are -\n",
    "\n",
    "Options:\n",
    "\n",
    "    1>Context of Words \n",
    "    2>Handling Tokens\n",
    "    3>Similar Meaning Words \n",
    "    4>Identifying root word \n",
    "    5>All of the above\n",
    "Correct Answer:(1,3,4)"
   ]
  },
  {
   "cell_type": "markdown",
   "metadata": {},
   "source": [
    "#### Stop Words in NLTK\n",
    "\n",
    "Stopwords in nltk library are all in _lower___case.\n"
   ]
  },
  {
   "cell_type": "markdown",
   "metadata": {},
   "source": [
    "#### Punctuations\n",
    "\n",
    "Punctuation is in _string_ module."
   ]
  },
  {
   "cell_type": "markdown",
   "metadata": {},
   "source": [
    "#### Removing Stop Words\n",
    "\n",
    "Q> Select correct statement(s) about removing stop words from documents\n",
    "\n",
    "Options:\n",
    "\n",
    "    1> They shouldn’t be removed.\n",
    "    2>They should be removed as they are present in all documents irrespective of topic of document. \n",
    "    3>They should be removed because these words have the highest frequency.\n",
    "\n",
    "Correct Answer:2"
   ]
  },
  {
   "cell_type": "markdown",
   "metadata": {},
   "source": [
    "##### Word Tokenization\n",
    "\n",
    "Q Word tokenization of \"Hey! How's work going ?. \" is -\n",
    "\n",
    "Options\n",
    "    \n",
    "    1>['Hey', '!', 'how's’, 'work', 'going', '?', '.']\n",
    "    \n",
    "    2>['Hey', 'how's’, 'work', 'going']\n",
    "    \n",
    "    3>['Hey', '!', 'How', \" ’s \", 'work', 'going', '?', '.'] \n",
    "    \n",
    "    4>['Hey', 'How', \" 's \", 'work', 'going']\n",
    "\n",
    "Correct Answer 3"
   ]
  },
  {
   "cell_type": "markdown",
   "metadata": {},
   "source": [
    "#### Stemming Algorithm\n",
    "\n",
    "Stemming Algorithm used in video is -\n",
    "\n",
    "Options\n",
    "\n",
    "    Husk Stemmer\n",
    "    Porter Stemmer \n",
    "    Lovins Stemmer\n",
    "\n",
    "Correct Answer: 2"
   ]
  },
  {
   "cell_type": "markdown",
   "metadata": {},
   "source": [
    "#### Porter Stemmer\n",
    "\n",
    "Q> Output of using porter stemmer on briefly is :\n",
    "\n",
    "Options:\n",
    "    \n",
    "    Briefly\n",
    "    Brief\n",
    "    Briefli \n",
    "    Briefi\n",
    "\n",
    "Correct Answer: 3"
   ]
  },
  {
   "cell_type": "markdown",
   "metadata": {},
   "source": [
    "Q> Porter stemmer will always output a valid English Dictionary word.\n",
    "\n",
    "FALSE"
   ]
  },
  {
   "cell_type": "markdown",
   "metadata": {},
   "source": [
    "###### Q>What is POS tag of Raj in “Raj went for a walk.” ?\n",
    "\n",
    "ANS: NNP"
   ]
  },
  {
   "cell_type": "markdown",
   "metadata": {},
   "source": [
    "Q> What is POS tag of raj in “raj went for a walk.”\n",
    "\n",
    "ANS : NN"
   ]
  },
  {
   "cell_type": "markdown",
   "metadata": {},
   "source": [
    "#### What is POS tag of Painting in \"This painting is beautiful.\" ?\n",
    "\n",
    "Ans: NN"
   ]
  },
  {
   "cell_type": "markdown",
   "metadata": {},
   "source": [
    "##### What is POS tag of painting in \"I have been painting since morning.\" ?\n",
    "\n",
    "Ans: VBG"
   ]
  },
  {
   "cell_type": "markdown",
   "metadata": {},
   "source": [
    "###### Q What does POS tag JJ stand fo r?\n",
    "\n",
    "Ans adjective"
   ]
  },
  {
   "cell_type": "markdown",
   "metadata": {},
   "source": [
    "###### Lemmatizer used in video is _WordNet_ Lemmitizer."
   ]
  },
  {
   "cell_type": "markdown",
   "metadata": {},
   "source": [
    "###### Q>Lemmatizer needs POS tag to give different output for a word based on its context."
   ]
  },
  {
   "cell_type": "code",
   "execution_count": null,
   "metadata": {},
   "outputs": [],
   "source": []
  }
 ],
 "metadata": {
  "kernelspec": {
   "display_name": "Python 3",
   "language": "python",
   "name": "python3"
  },
  "language_info": {
   "codemirror_mode": {
    "name": "ipython",
    "version": 3
   },
   "file_extension": ".py",
   "mimetype": "text/x-python",
   "name": "python",
   "nbconvert_exporter": "python",
   "pygments_lexer": "ipython3",
   "version": "3.7.1"
  }
 },
 "nbformat": 4,
 "nbformat_minor": 2
}
