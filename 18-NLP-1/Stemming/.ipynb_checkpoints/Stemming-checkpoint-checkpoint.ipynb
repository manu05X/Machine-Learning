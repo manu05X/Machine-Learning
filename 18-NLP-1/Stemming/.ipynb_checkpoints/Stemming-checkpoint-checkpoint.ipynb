{
 "cells": [
  {
   "cell_type": "markdown",
   "metadata": {},
   "source": [
    "### What is Stemming?\n",
    "\n",
    "Stemming is the process of converting the words of a sentence to its non-changing portions. In the example of amusing, amusement, and amused above, the stem would be amus.\n",
    "\n",
    "### Types of Stemmers\n",
    "\n",
    "You're probably wondering how do I convert a series of words to its stems. Luckily, NLTK has a few built-in and established stemmers available for you to use! They work slightly differently since they follow different rules - which you use depends on whatever you happen to be working on.\n",
    "\n",
    "First, let's try the Lancaster Stemmer:\n",
    "\n",
    "*lancaster = nltk.LancasterStemmer()\n",
    "\n",
    "*stems = [lancaster.stem(i) for i in tokens]\n",
    "\n",
    "This should have the output:\n",
    "['omg', ',', 'nat', 'langu', 'process', 'is', 'so', 'cool', 'and', 'i', \"'m\", 'real', 'enjoy', 'thi', 'workshop', '!']\n",
    "\n",
    "\n",
    "Secondly, we try the Porter Stemmer:\n",
    "\n",
    "*porter = nltk.PorterStemmer()\n",
    "\n",
    "*stem = [porter.stem(i) for i in tokens]\n",
    "\n",
    "\n",
    "*Notice how \"natural\" maps to \"natur\" instead of \"nat\" and \"really\" maps to \"realli\" instead of \"real\" in the last stemmer.\n",
    "\n",
    "['omg', ',', 'natur', 'languag', 'process', 'is', 'so', 'cool', 'and', 'i', \"'m\", 'realli', 'enjoy', 'thi', 'workshop', '!']\n",
    "\n",
    "### What is Lemmatization?\n",
    "\n",
    "Lemmatization is the process of converting the words of a sentence to its dictionary form. For example, given the words amusement, amusing, and amused, the lemma for each and all would be amuse.\n",
    "\n",
    "### WordNetLemmatizer\n",
    "\n",
    "Once again, NLTK is awesome and has a built in lemmatizer for us to use:\n",
    "\n",
    "from nltk import WordNetLemmatizer\n",
    "lemma = nltk.WordNetLemmatizer()\n",
    "text = \"Women in technology are amazing at coding\"\n",
    "ex = [i.lower() for i in text.split()]\n",
    "lemmas = [lemma.lemmatize(i) for i in ex]\n",
    "['woman', 'in', 'technology', 'are', 'amazing', 'at', 'coding']\n",
    "Notice that women is changed to \"woman\"!"
   ]
  },
  {
   "cell_type": "markdown",
   "metadata": {},
   "source": [
    "Output of using porter stemmer on briefly is ->Briefli\n",
    "Stemming Algorithm used in video is - Porter Stemmer\n",
    "Porter stemmer will always output a valid English Dictionary word- false"
   ]
  },
  {
   "cell_type": "code",
   "execution_count": 1,
   "metadata": {},
   "outputs": [
    {
     "data": {
      "text/plain": [
       "['play', 'play', 'player', 'play', 'happpi']"
      ]
     },
     "execution_count": 1,
     "metadata": {},
     "output_type": "execute_result"
    }
   ],
   "source": [
    "from nltk.stem import PorterStemmer\n",
    "stem_words=[\"play\",\"playing\",\"player\",\"played\",\"happpying\"]\n",
    "ps=PorterStemmer()#obj of porterStemmer\n",
    "stemmed_words=[ps.stem(w) for w in stem_words]\n",
    "stemmed_words"
   ]
  }
 ],
 "metadata": {
  "kernelspec": {
   "display_name": "Python 3",
   "language": "python",
   "name": "python3"
  },
  "language_info": {
   "codemirror_mode": {
    "name": "ipython",
    "version": 3
   },
   "file_extension": ".py",
   "mimetype": "text/x-python",
   "name": "python",
   "nbconvert_exporter": "python",
   "pygments_lexer": "ipython3",
   "version": "3.7.1"
  }
 },
 "nbformat": 4,
 "nbformat_minor": 2
}
