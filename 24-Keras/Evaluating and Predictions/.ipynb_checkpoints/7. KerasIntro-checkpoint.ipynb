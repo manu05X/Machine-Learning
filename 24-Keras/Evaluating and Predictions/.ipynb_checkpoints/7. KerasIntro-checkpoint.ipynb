{
 "cells": [
  {
   "cell_type": "code",
   "execution_count": 1,
   "metadata": {},
   "outputs": [
    {
     "name": "stderr",
     "output_type": "stream",
     "text": [
      "Using TensorFlow backend.\n"
     ]
    }
   ],
   "source": [
    "from keras.models import Sequential\n",
    "from keras.layers import Dense"
   ]
  },
  {
   "cell_type": "code",
   "execution_count": 2,
   "metadata": {},
   "outputs": [],
   "source": [
    "# Creating a Model\n",
    "model = Sequential()"
   ]
  },
  {
   "cell_type": "code",
   "execution_count": 3,
   "metadata": {},
   "outputs": [
    {
     "name": "stdout",
     "output_type": "stream",
     "text": [
      "WARNING:tensorflow:From C:\\Users\\Anaconda\\lib\\site-packages\\tensorflow\\python\\ops\\resource_variable_ops.py:435: colocate_with (from tensorflow.python.framework.ops) is deprecated and will be removed in a future version.\n",
      "Instructions for updating:\n",
      "Colocations handled automatically by placer.\n"
     ]
    }
   ],
   "source": [
    "layer1 = Dense(units=32, activation = 'relu', input_dim = 30)\n",
    "model.add(layer1)\n",
    "model.add(Dense(units=16, activation = 'relu'))\n",
    "model.add(Dense(units=1, activation = 'sigmoid'))"
   ]
  },
  {
   "cell_type": "code",
   "execution_count": 4,
   "metadata": {},
   "outputs": [],
   "source": [
    "model.compile(optimizer='adam', loss='binary_crossentropy', metrics=['accuracy'])"
   ]
  },
  {
   "cell_type": "code",
   "execution_count": 5,
   "metadata": {},
   "outputs": [],
   "source": [
    "from sklearn import datasets\n",
    "cancer = datasets.load_breast_cancer()\n",
    "from sklearn.model_selection import train_test_split\n",
    "\n",
    "x_train, x_test, y_train, y_test = train_test_split(cancer.data, cancer.target, test_size = 0.2, random_state = 0)\n",
    "\n",
    "from sklearn.preprocessing import StandardScaler\n",
    "\n",
    "sc = StandardScaler()\n",
    "x_train = sc.fit_transform(x_train)\n",
    "x_test = sc.transform(x_test)"
   ]
  },
  {
   "cell_type": "code",
   "execution_count": 6,
   "metadata": {},
   "outputs": [
    {
     "name": "stdout",
     "output_type": "stream",
     "text": [
      "WARNING:tensorflow:From C:\\Users\\Anaconda\\lib\\site-packages\\tensorflow\\python\\ops\\math_ops.py:3066: to_int32 (from tensorflow.python.ops.math_ops) is deprecated and will be removed in a future version.\n",
      "Instructions for updating:\n",
      "Use tf.cast instead.\n",
      "Train on 455 samples, validate on 114 samples\n",
      "Epoch 1/20\n",
      "455/455 [==============================] - 1s 2ms/step - loss: 0.6843 - accuracy: 0.6615 - val_loss: 0.6073 - val_accuracy: 0.6579\n",
      "Epoch 2/20\n",
      "455/455 [==============================] - 0s 123us/step - loss: 0.5054 - accuracy: 0.7758 - val_loss: 0.4705 - val_accuracy: 0.7544\n",
      "Epoch 3/20\n",
      "455/455 [==============================] - 0s 122us/step - loss: 0.3958 - accuracy: 0.8637 - val_loss: 0.3870 - val_accuracy: 0.8596\n",
      "Epoch 4/20\n",
      "455/455 [==============================] - 0s 118us/step - loss: 0.3198 - accuracy: 0.9143 - val_loss: 0.3285 - val_accuracy: 0.9123\n",
      "Epoch 5/20\n",
      "455/455 [==============================] - 0s 114us/step - loss: 0.2625 - accuracy: 0.9473 - val_loss: 0.2821 - val_accuracy: 0.9386\n",
      "Epoch 6/20\n",
      "455/455 [==============================] - 0s 111us/step - loss: 0.2181 - accuracy: 0.9626 - val_loss: 0.2416 - val_accuracy: 0.9474\n",
      "Epoch 7/20\n",
      "455/455 [==============================] - 0s 118us/step - loss: 0.1833 - accuracy: 0.9648 - val_loss: 0.2084 - val_accuracy: 0.9561\n",
      "Epoch 8/20\n",
      "455/455 [==============================] - 0s 107us/step - loss: 0.1563 - accuracy: 0.9692 - val_loss: 0.1817 - val_accuracy: 0.9649\n",
      "Epoch 9/20\n",
      "455/455 [==============================] - 0s 109us/step - loss: 0.1351 - accuracy: 0.9736 - val_loss: 0.1590 - val_accuracy: 0.9649\n",
      "Epoch 10/20\n",
      "455/455 [==============================] - 0s 115us/step - loss: 0.1183 - accuracy: 0.9758 - val_loss: 0.1420 - val_accuracy: 0.9649\n",
      "Epoch 11/20\n",
      "455/455 [==============================] - 0s 112us/step - loss: 0.1051 - accuracy: 0.9780 - val_loss: 0.1285 - val_accuracy: 0.9649\n",
      "Epoch 12/20\n",
      "455/455 [==============================] - 0s 118us/step - loss: 0.0951 - accuracy: 0.9824 - val_loss: 0.1177 - val_accuracy: 0.9649\n",
      "Epoch 13/20\n",
      "455/455 [==============================] - 0s 123us/step - loss: 0.0863 - accuracy: 0.9846 - val_loss: 0.1106 - val_accuracy: 0.9649\n",
      "Epoch 14/20\n",
      "455/455 [==============================] - 0s 132us/step - loss: 0.0798 - accuracy: 0.9824 - val_loss: 0.1046 - val_accuracy: 0.9649\n",
      "Epoch 15/20\n",
      "455/455 [==============================] - 0s 115us/step - loss: 0.0742 - accuracy: 0.9846 - val_loss: 0.0999 - val_accuracy: 0.9649\n",
      "Epoch 16/20\n",
      "455/455 [==============================] - 0s 116us/step - loss: 0.0698 - accuracy: 0.9846 - val_loss: 0.0963 - val_accuracy: 0.9737\n",
      "Epoch 17/20\n",
      "455/455 [==============================] - 0s 109us/step - loss: 0.0657 - accuracy: 0.9846 - val_loss: 0.0933 - val_accuracy: 0.9737\n",
      "Epoch 18/20\n",
      "455/455 [==============================] - 0s 120us/step - loss: 0.0627 - accuracy: 0.9846 - val_loss: 0.0910 - val_accuracy: 0.9649\n",
      "Epoch 19/20\n",
      "455/455 [==============================] - 0s 120us/step - loss: 0.0600 - accuracy: 0.9868 - val_loss: 0.0894 - val_accuracy: 0.9649\n",
      "Epoch 20/20\n",
      "455/455 [==============================] - 0s 119us/step - loss: 0.0575 - accuracy: 0.9868 - val_loss: 0.0879 - val_accuracy: 0.9649\n"
     ]
    },
    {
     "data": {
      "text/plain": [
       "<keras.callbacks.callbacks.History at 0x2196eec4da0>"
      ]
     },
     "execution_count": 6,
     "metadata": {},
     "output_type": "execute_result"
    }
   ],
   "source": [
    "model.fit(x_train, y_train, epochs=20, batch_size = 50, validation_data=(x_test, y_test))"
   ]
  },
  {
   "cell_type": "markdown",
   "metadata": {},
   "source": [
    "#### Evaluations & Predictions"
   ]
  },
  {
   "cell_type": "code",
   "execution_count": 7,
   "metadata": {},
   "outputs": [
    {
     "name": "stdout",
     "output_type": "stream",
     "text": [
      "114/114 [==============================] - 0s 88us/step\n"
     ]
    },
    {
     "data": {
      "text/plain": [
       "[0.08789197081013729, 0.9649122953414917]"
      ]
     },
     "execution_count": 7,
     "metadata": {},
     "output_type": "execute_result"
    }
   ],
   "source": [
    "predictions = model.predict(x_test)\n",
    "score = model.evaluate(x_test, y_test)\n",
    "score"
   ]
  }
 ],
 "metadata": {
  "kernelspec": {
   "display_name": "Python 3",
   "language": "python",
   "name": "python3"
  },
  "language_info": {
   "codemirror_mode": {
    "name": "ipython",
    "version": 3
   },
   "file_extension": ".py",
   "mimetype": "text/x-python",
   "name": "python",
   "nbconvert_exporter": "python",
   "pygments_lexer": "ipython3",
   "version": "3.7.1"
  }
 },
 "nbformat": 4,
 "nbformat_minor": 2
}
