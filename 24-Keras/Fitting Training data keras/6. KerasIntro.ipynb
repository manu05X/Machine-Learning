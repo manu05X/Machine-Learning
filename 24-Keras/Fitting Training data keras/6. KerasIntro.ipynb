{
 "cells": [
  {
   "cell_type": "code",
   "execution_count": 8,
   "metadata": {},
   "outputs": [],
   "source": [
    "from keras.models import Sequential\n",
    "from keras.layers import Dense"
   ]
  },
  {
   "cell_type": "code",
   "execution_count": 9,
   "metadata": {},
   "outputs": [],
   "source": [
    "# Creating a Model\n",
    "model = Sequential()"
   ]
  },
  {
   "cell_type": "code",
   "execution_count": 10,
   "metadata": {},
   "outputs": [],
   "source": [
    "layer1 = Dense(units=32, activation = 'relu', input_dim = 30)\n",
    "model.add(layer1)\n",
    "model.add(Dense(units=16, activation = 'relu'))\n",
    "model.add(Dense(units=1, activation = 'sigmoid'))"
   ]
  },
  {
   "cell_type": "code",
   "execution_count": 11,
   "metadata": {},
   "outputs": [],
   "source": [
    "model.compile(optimizer='adam', loss='binary_crossentropy', metrics=['accuracy'])"
   ]
  },
  {
   "cell_type": "markdown",
   "metadata": {},
   "source": [
    "### Preparing the data"
   ]
  },
  {
   "cell_type": "code",
   "execution_count": 12,
   "metadata": {},
   "outputs": [],
   "source": [
    "# Loading the data\n",
    "from sklearn import datasets\n",
    "cancer = datasets.load_breast_cancer()\n",
    "from sklearn.model_selection import train_test_split\n",
    "\n",
    "#splitting the data\n",
    "x_train, x_test, y_train, y_test = train_test_split(cancer.data, cancer.target, test_size = 0.2, random_state = 0)\n",
    "\n",
    "# Scaling the data\n",
    "from sklearn.preprocessing import StandardScaler\n",
    "\n",
    "sc = StandardScaler()\n",
    "x_train = sc.fit_transform(x_train)\n",
    "x_test = sc.transform(x_test)"
   ]
  },
  {
   "cell_type": "markdown",
   "metadata": {},
   "source": [
    "# Fitting the data"
   ]
  },
  {
   "cell_type": "code",
   "execution_count": 13,
   "metadata": {},
   "outputs": [
    {
     "name": "stdout",
     "output_type": "stream",
     "text": [
      "Epoch 1/1\n",
      "455/455 [==============================] - 1s 2ms/step - loss: 0.5845 - accuracy: 0.7495\n"
     ]
    },
    {
     "data": {
      "text/plain": [
       "<keras.callbacks.callbacks.History at 0x204eaa9e780>"
      ]
     },
     "execution_count": 13,
     "metadata": {},
     "output_type": "execute_result"
    }
   ],
   "source": [
    "model.fit(x_train, y_train)"
   ]
  },
  {
   "cell_type": "markdown",
   "metadata": {},
   "source": [
    "* accuracy: 0.6989 is not good as we run only for 1 epochs, So we need to take more epoches, batch_size for more accuracy"
   ]
  },
  {
   "cell_type": "code",
   "execution_count": 14,
   "metadata": {},
   "outputs": [
    {
     "name": "stdout",
     "output_type": "stream",
     "text": [
      "Train on 455 samples, validate on 114 samples\n",
      "Epoch 1/20\n",
      "455/455 [==============================] - 0s 274us/step - loss: 0.4147 - accuracy: 0.8967 - val_loss: 0.3665 - val_accuracy: 0.9211\n",
      "Epoch 2/20\n",
      "455/455 [==============================] - 0s 57us/step - loss: 0.3306 - accuracy: 0.9275 - val_loss: 0.2955 - val_accuracy: 0.9298\n",
      "Epoch 3/20\n",
      "455/455 [==============================] - 0s 60us/step - loss: 0.2660 - accuracy: 0.9495 - val_loss: 0.2443 - val_accuracy: 0.9474\n",
      "Epoch 4/20\n",
      "455/455 [==============================] - 0s 61us/step - loss: 0.2197 - accuracy: 0.9516 - val_loss: 0.2082 - val_accuracy: 0.9386\n",
      "Epoch 5/20\n",
      "455/455 [==============================] - 0s 54us/step - loss: 0.1858 - accuracy: 0.9516 - val_loss: 0.1815 - val_accuracy: 0.9298\n",
      "Epoch 6/20\n",
      "455/455 [==============================] - 0s 55us/step - loss: 0.1603 - accuracy: 0.9582 - val_loss: 0.1627 - val_accuracy: 0.9298\n",
      "Epoch 7/20\n",
      "455/455 [==============================] - 0s 58us/step - loss: 0.1422 - accuracy: 0.9582 - val_loss: 0.1487 - val_accuracy: 0.9298\n",
      "Epoch 8/20\n",
      "455/455 [==============================] - 0s 55us/step - loss: 0.1286 - accuracy: 0.9626 - val_loss: 0.1384 - val_accuracy: 0.9386\n",
      "Epoch 9/20\n",
      "455/455 [==============================] - 0s 62us/step - loss: 0.1176 - accuracy: 0.9692 - val_loss: 0.1294 - val_accuracy: 0.9386\n",
      "Epoch 10/20\n",
      "455/455 [==============================] - 0s 59us/step - loss: 0.1089 - accuracy: 0.9714 - val_loss: 0.1235 - val_accuracy: 0.9386\n",
      "Epoch 11/20\n",
      "455/455 [==============================] - 0s 59us/step - loss: 0.1025 - accuracy: 0.9758 - val_loss: 0.1187 - val_accuracy: 0.9386\n",
      "Epoch 12/20\n",
      "455/455 [==============================] - 0s 54us/step - loss: 0.0976 - accuracy: 0.9802 - val_loss: 0.1158 - val_accuracy: 0.9386\n",
      "Epoch 13/20\n",
      "455/455 [==============================] - 0s 55us/step - loss: 0.0929 - accuracy: 0.9802 - val_loss: 0.1123 - val_accuracy: 0.9561\n",
      "Epoch 14/20\n",
      "455/455 [==============================] - 0s 52us/step - loss: 0.0882 - accuracy: 0.9802 - val_loss: 0.1094 - val_accuracy: 0.9561\n",
      "Epoch 15/20\n",
      "455/455 [==============================] - 0s 59us/step - loss: 0.0841 - accuracy: 0.9802 - val_loss: 0.1073 - val_accuracy: 0.9561\n",
      "Epoch 16/20\n",
      "455/455 [==============================] - 0s 58us/step - loss: 0.0805 - accuracy: 0.9802 - val_loss: 0.1054 - val_accuracy: 0.9561\n",
      "Epoch 17/20\n",
      "455/455 [==============================] - 0s 60us/step - loss: 0.0773 - accuracy: 0.9802 - val_loss: 0.1040 - val_accuracy: 0.9561\n",
      "Epoch 18/20\n",
      "455/455 [==============================] - 0s 64us/step - loss: 0.0744 - accuracy: 0.9824 - val_loss: 0.1032 - val_accuracy: 0.9561\n",
      "Epoch 19/20\n",
      "455/455 [==============================] - 0s 48us/step - loss: 0.0718 - accuracy: 0.9824 - val_loss: 0.1022 - val_accuracy: 0.9561\n",
      "Epoch 20/20\n",
      "455/455 [==============================] - 0s 57us/step - loss: 0.0697 - accuracy: 0.9846 - val_loss: 0.1013 - val_accuracy: 0.9561\n"
     ]
    },
    {
     "data": {
      "text/plain": [
       "<keras.callbacks.callbacks.History at 0x204ef6b7550>"
      ]
     },
     "execution_count": 14,
     "metadata": {},
     "output_type": "execute_result"
    }
   ],
   "source": [
    "model.fit(x_train, y_train, epochs=20, batch_size = 50, validation_data=(x_test, y_test))"
   ]
  },
  {
   "cell_type": "code",
   "execution_count": null,
   "metadata": {},
   "outputs": [],
   "source": []
  }
 ],
 "metadata": {
  "kernelspec": {
   "display_name": "Python 3",
   "language": "python",
   "name": "python3"
  },
  "language_info": {
   "codemirror_mode": {
    "name": "ipython",
    "version": 3
   },
   "file_extension": ".py",
   "mimetype": "text/x-python",
   "name": "python",
   "nbconvert_exporter": "python",
   "pygments_lexer": "ipython3",
   "version": "3.7.1"
  }
 },
 "nbformat": 4,
 "nbformat_minor": 2
}
