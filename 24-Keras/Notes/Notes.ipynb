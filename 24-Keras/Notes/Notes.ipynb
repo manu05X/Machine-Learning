{
 "cells": [
  {
   "cell_type": "markdown",
   "metadata": {},
   "source": [
    "##### Intro to Keras.\n",
    "Q>\n",
    "Why should we use keras instead of using tensorflow?\n",
    "\n",
    "* Options\n",
    "        \n",
    "        It figures out the optimal number of units to be used in our hidden layers\n",
    "        \n",
    "        It simplifies the code for us and we don’t have write a lot of redundant code \n",
    "        \n",
    "        Keras will figure out the best optimizer & cost function to be used\n",
    "\n",
    "Correct Answer: 2"
   ]
  },
  {
   "cell_type": "markdown",
   "metadata": {},
   "source": [
    "### Flow of Code in Keras\n",
    "\n",
    "1>creat a Model\n",
    "\n",
    "2> Define Architectures\n",
    "            * layers, units, activation function\n",
    "3> Compile\n",
    "        * Loss function to use\n",
    "        * Optimizer\n",
    " \n",
    " 4> Fit\n",
    "         * batch size\n",
    "         * no of iteration\n",
    " \n",
    " 5> Evaluate\n",
    "         * predict function"
   ]
  },
  {
   "cell_type": "markdown",
   "metadata": {},
   "source": [
    "#### Keras Flow\n",
    "Q>\n",
    "At which stage will we provide the information about the optimizer to Keras?\n",
    "* Options\n",
    "        \n",
    "        Model Creation\n",
    "        \n",
    "        Adding Layers\n",
    "        \n",
    "        Compile \n",
    "        \n",
    "        Fit\n",
    "        \n",
    "        Evaluate\n",
    "\n",
    "Correct Answer: 3"
   ]
  },
  {
   "cell_type": "markdown",
   "metadata": {},
   "source": [
    "#### Keras Flow\n",
    "Q>\n",
    "At which stage will we provide the training data to Keras?\n",
    "* Options\n",
    "        \n",
    "        Model Creation\n",
    "        \n",
    "        Adding Layers\n",
    "        \n",
    "        Compile \n",
    "        \n",
    "        Fit\n",
    "        \n",
    "        Evaluate\n",
    "\n",
    "Correct Answer: 4"
   ]
  },
  {
   "cell_type": "markdown",
   "metadata": {},
   "source": [
    "#### Keras Model\n",
    "\n",
    "1> Sequential Model\n",
    "\n",
    "2> Model( function API)"
   ]
  },
  {
   "cell_type": "markdown",
   "metadata": {},
   "source": [
    "##### Adding Layers\n",
    "Q>\n",
    "    What arguments are compulsory while adding any layer?\n",
    "\n",
    "* Options\n",
    "        \n",
    "        Training Data\n",
    "        \n",
    "        Size of input coming to the layer\n",
    "        \n",
    "        Number of units in the layer \n",
    "        \n",
    "        Activation Function\n",
    "\n",
    "Correct Answer: 3\n",
    "\n",
    "Number of units in the layer are compulsory while adding a layer. Whereas Input size is compulsory only if the layer is the first layer."
   ]
  },
  {
   "cell_type": "markdown",
   "metadata": {},
   "source": [
    "#### Adding Layers\n",
    "Q>\n",
    "    From the documentation check what is true about a layer called Activation layer:\n",
    "\n",
    "* Options\n",
    "        \n",
    "        * There is no such layer as Activation layer\n",
    "        \n",
    "        * This layer just applies the activation function to the output of the previous layer. \n",
    "        \n",
    "        * This layer always requires a input shape argument to be passed.\n",
    "        \n",
    "        * Activation layer uses the sigmoid function as the default functions\n",
    "        \n",
    "Correct Answer: 2"
   ]
  },
  {
   "cell_type": "markdown",
   "metadata": {},
   "source": [
    "#### Compile\n",
    "Q>\n",
    "    Which of these is/are compulsory for the compile function in Sequential model as per the Keras documentation?\n",
    "\n",
    "* Options\n",
    "        \n",
    "        * Loss Function\n",
    "        * Optimizer \n",
    "        * Accuracy\n",
    "        * Loss_weights\n",
    "        \n",
    "Correct Answer: 2"
   ]
  },
  {
   "cell_type": "markdown",
   "metadata": {},
   "source": [
    "#### Compile\n",
    "Q>\n",
    "    Choosing the correct accuracy function is important for the compile function because:\n",
    "\n",
    "* Options\n",
    "        \n",
    "        * It will affect the value of the loss function\n",
    "\n",
    "        * It will affect the training time of our network\n",
    "\n",
    "        * It will define what is prinited during fit and evaluate function calls \n",
    "\n",
    "        * It will define how good or bad our network is.\n",
    "        \n",
    "Correct Answer: 2"
   ]
  },
  {
   "cell_type": "markdown",
   "metadata": {},
   "source": [
    "#### Fit\n",
    "Q>\n",
    "    How many times will the weights get updated for a network if we provide it 1000 data points with 40 epochs and 20 as the batch size?\n",
    "\n",
    "* Options\n",
    "        \n",
    "        * 1000\n",
    "        * 40\n",
    "        * 800\n",
    "        * 2000 \n",
    "        \n",
    "Correct Answer: 4"
   ]
  },
  {
   "cell_type": "code",
   "execution_count": null,
   "metadata": {},
   "outputs": [],
   "source": []
  }
 ],
 "metadata": {
  "kernelspec": {
   "display_name": "Python 3",
   "language": "python",
   "name": "python3"
  },
  "language_info": {
   "codemirror_mode": {
    "name": "ipython",
    "version": 3
   },
   "file_extension": ".py",
   "mimetype": "text/x-python",
   "name": "python",
   "nbconvert_exporter": "python",
   "pygments_lexer": "ipython3",
   "version": "3.7.1"
  }
 },
 "nbformat": 4,
 "nbformat_minor": 2
}
