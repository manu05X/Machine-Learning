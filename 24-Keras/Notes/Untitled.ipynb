{
 "cells": [
  {
   "cell_type": "markdown",
   "metadata": {},
   "source": [
    "##### Intro to Keras.\n",
    "Q>\n",
    "Why should we use keras instead of using tensorflow?\n",
    "\n",
    "* Options\n",
    "        \n",
    "        It figures out the optimal number of units to be used in our hidden layers\n",
    "        \n",
    "        It simplifies the code for us and we don’t have write a lot of redundant code \n",
    "        \n",
    "        Keras will figure out the best optimizer & cost function to be used\n",
    "\n",
    "Correct Answer: 2"
   ]
  },
  {
   "cell_type": "markdown",
   "metadata": {},
   "source": [
    "### Flow of Code in Keras\n",
    "\n",
    "1>creat a Model\n",
    "\n",
    "2> Define Architectures\n",
    "            * layers, units, activation function\n",
    "3> Compile\n",
    "        * Loss function to use\n",
    "        * Optimizer\n",
    " \n",
    " 4> Fit\n",
    "         * batch size\n",
    "         * no of iteration\n",
    " \n",
    " 5> Evaluate\n",
    "         * predict function"
   ]
  },
  {
   "cell_type": "markdown",
   "metadata": {},
   "source": [
    "#### Keras Flow\n",
    "Q>\n",
    "At which stage will we provide the information about the optimizer to Keras?\n",
    "* Options\n",
    "        \n",
    "        Model Creation\n",
    "        \n",
    "        Adding Layers\n",
    "        \n",
    "        Compile \n",
    "        \n",
    "        Fit\n",
    "        \n",
    "        Evaluate\n",
    "\n",
    "Correct Answer: 3"
   ]
  },
  {
   "cell_type": "markdown",
   "metadata": {},
   "source": [
    "#### Keras Flow\n",
    "Q>\n",
    "At which stage will we provide the training data to Keras?\n",
    "* Options\n",
    "        \n",
    "        Model Creation\n",
    "        \n",
    "        Adding Layers\n",
    "        \n",
    "        Compile \n",
    "        \n",
    "        Fit\n",
    "        \n",
    "        Evaluate\n",
    "\n",
    "Correct Answer: 4"
   ]
  },
  {
   "cell_type": "markdown",
   "metadata": {},
   "source": [
    "#### Keras Model\n",
    "\n",
    "1> Sequential Model\n",
    "\n",
    "2> Model( function API)"
   ]
  },
  {
   "cell_type": "code",
   "execution_count": null,
   "metadata": {},
   "outputs": [],
   "source": []
  }
 ],
 "metadata": {
  "kernelspec": {
   "display_name": "Python 3",
   "language": "python",
   "name": "python3"
  },
  "language_info": {
   "codemirror_mode": {
    "name": "ipython",
    "version": 3
   },
   "file_extension": ".py",
   "mimetype": "text/x-python",
   "name": "python",
   "nbconvert_exporter": "python",
   "pygments_lexer": "ipython3",
   "version": "3.7.1"
  }
 },
 "nbformat": 4,
 "nbformat_minor": 2
}
