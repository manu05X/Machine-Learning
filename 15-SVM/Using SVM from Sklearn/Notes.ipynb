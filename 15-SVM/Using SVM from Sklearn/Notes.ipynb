{
 "cells": [
  {
   "cell_type": "markdown",
   "metadata": {},
   "source": [
    "Q>Increasing the value of C while using the SVC model of Sklearn.svm does which of the following?\n",
    "\n",
    "i>Decision boundary tries to separate the data points even if it has to increase wrong classification on the training data.\n",
    "\n",
    "ii>Decision boundary tries to separate the data points and reduce wrong classifications in the training data. \n",
    "\n",
    "iii>It supports overfitting \n",
    "\n",
    "iv>It supports underfitting\n",
    "\n",
    "Correct Answer ii,iii"
   ]
  },
  {
   "cell_type": "markdown",
   "metadata": {},
   "source": [
    "https://towardsdatascience.com/support-vector-machine-introduction-to-machine-learning-algorithms-934a444fca47"
   ]
  },
  {
   "cell_type": "code",
   "execution_count": null,
   "metadata": {},
   "outputs": [],
   "source": []
  }
 ],
 "metadata": {
  "kernelspec": {
   "display_name": "Python 3",
   "language": "python",
   "name": "python3"
  },
  "language_info": {
   "codemirror_mode": {
    "name": "ipython",
    "version": 3
   },
   "file_extension": ".py",
   "mimetype": "text/x-python",
   "name": "python",
   "nbconvert_exporter": "python",
   "pygments_lexer": "ipython3",
   "version": "3.7.1"
  }
 },
 "nbformat": 4,
 "nbformat_minor": 2
}
