{
 "cells": [
  {
   "cell_type": "markdown",
   "metadata": {},
   "source": [
    "##### Predictions & Accuracy\n",
    "Q> \n",
    "What all parameters will TensorFlow have to evaluate if we run:\n",
    "\n",
    "predictions_eval  = sess.run(predictions,\n",
    "                           feed_dict={x:mnist.train.images, y:mnist.train.labels})\n",
    "\n",
    "\n",
    "* Options\n",
    "        \n",
    "        Pred \n",
    "        \n",
    "        Predictions \n",
    "        \n",
    "        True_labels\n",
    "        \n",
    "        correct_labels\n",
    "        \n",
    "Correct Answer: 1,2"
   ]
  },
  {
   "cell_type": "markdown",
   "metadata": {},
   "source": [
    "##### Predictions & Accuracy\n",
    "Q> \n",
    "What all parameters will TensorFlow have to evaluate if we run:\n",
    "\n",
    "correct_pred  = sess.run(correct_predictions, \n",
    "                           feed_dict={x:mnist.train.images, y:mnist.train.labels})\n",
    "\n",
    "\n",
    "* Options\n",
    "        \n",
    "        Pred \n",
    "        \n",
    "        Predictions \n",
    "        \n",
    "        True_labels\n",
    "        \n",
    "        correct_labels\n",
    "        \n",
    "Correct Answer: 1,2,3,4"
   ]
  },
  {
   "cell_type": "markdown",
   "metadata": {},
   "source": [
    "#### Prediction and Accuracy\n",
    "Q>\n",
    "Our code would have worked fine if we had used tf.maximum instead of tf.argmax for finding predictions from preds.\n",
    "\n",
    "* Options\n",
    "   \n",
    "       Yes\n",
    "    \n",
    "\n",
    "No \n",
    "Correct Answer: No\n",
    "\n",
    "Explanation: In case we have four possible classes [0,1,2,3] and the output of the classifier is [0.1, 0.4, 0.5, 0.2], we don’t want our output to be 0.5. We want the output to be 2. Tf.maximum will find 0.5 for us and tf.argmax will find the index at which the maximum is present i.e. 2."
   ]
  },
  {
   "cell_type": "code",
   "execution_count": null,
   "metadata": {},
   "outputs": [],
   "source": []
  }
 ],
 "metadata": {
  "kernelspec": {
   "display_name": "Python 3",
   "language": "python",
   "name": "python3"
  },
  "language_info": {
   "codemirror_mode": {
    "name": "ipython",
    "version": 3
   },
   "file_extension": ".py",
   "mimetype": "text/x-python",
   "name": "python",
   "nbconvert_exporter": "python",
   "pygments_lexer": "ipython3",
   "version": "3.7.1"
  }
 },
 "nbformat": 4,
 "nbformat_minor": 2
}
