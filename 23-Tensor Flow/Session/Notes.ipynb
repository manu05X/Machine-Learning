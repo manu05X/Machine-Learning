{
 "cells": [
  {
   "cell_type": "code",
   "execution_count": 2,
   "metadata": {},
   "outputs": [
    {
     "name": "stdout",
     "output_type": "stream",
     "text": [
      "5\n"
     ]
    }
   ],
   "source": [
    "import tensorflow as tf\n",
    "#session\n",
    "\n",
    "sees  = tf.Session()\n",
    "a = tf.constant(2)\n",
    "b = tf.constant(3)\n",
    "c = tf.add(a, b)\n",
    "#print(c.eval())\n",
    "with tf.Session() as abc:\n",
    "   print(sees.run(c))      #using session obj"
   ]
  },
  {
   "cell_type": "markdown",
   "metadata": {},
   "source": [
    "#### Output Question\n",
    "Q>\n",
    "What will be the output ?\n",
    "      \n",
    "        a = tf.constant(2)\n",
    "        b = tf.constant(3)\n",
    "        c = tf.add(a, b)\n",
    "        print(c.eval())\n",
    "\n",
    "* Options\n",
    "    \n",
    "    Tensor Object\n",
    "    \n",
    "    5\n",
    "    \n",
    "    Error \n",
    "    \n",
    "    Correct Answer\n",
    "\n",
    "Solution Description\n",
    "\n",
    "Explanation : default session is required to be assigned for eval() to work , like eval(session=sess)"
   ]
  },
  {
   "cell_type": "code",
   "execution_count": null,
   "metadata": {},
   "outputs": [],
   "source": []
  }
 ],
 "metadata": {
  "kernelspec": {
   "display_name": "Python 3",
   "language": "python",
   "name": "python3"
  },
  "language_info": {
   "codemirror_mode": {
    "name": "ipython",
    "version": 3
   },
   "file_extension": ".py",
   "mimetype": "text/x-python",
   "name": "python",
   "nbconvert_exporter": "python",
   "pygments_lexer": "ipython3",
   "version": "3.7.1"
  }
 },
 "nbformat": 4,
 "nbformat_minor": 2
}
