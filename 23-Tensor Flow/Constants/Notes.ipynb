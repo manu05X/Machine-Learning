{
 "cells": [
  {
   "cell_type": "code",
   "execution_count": 1,
   "metadata": {},
   "outputs": [],
   "source": [
    "import tensorflow as tf"
   ]
  },
  {
   "cell_type": "code",
   "execution_count": 5,
   "metadata": {},
   "outputs": [
    {
     "data": {
      "text/plain": [
       "5"
      ]
     },
     "execution_count": 5,
     "metadata": {},
     "output_type": "execute_result"
    }
   ],
   "source": [
    "#a and b are two tensor obj\n",
    "a = tf.constant(2)\n",
    "b = tf.constant(3)\n",
    "c = a + b\n",
    "res = tf.Session() #creating a sesion\n",
    "res.run(c)"
   ]
  },
  {
   "cell_type": "code",
   "execution_count": 8,
   "metadata": {},
   "outputs": [
    {
     "data": {
      "text/plain": [
       "array([[18]])"
      ]
     },
     "execution_count": 8,
     "metadata": {},
     "output_type": "execute_result"
    }
   ],
   "source": [
    "a1 = tf.constant([[3,3]])\n",
    "a2 = tf.constant([[3],[3]])\n",
    "sees = tf.matmul(a1, a2)\n",
    "res.run(sees)"
   ]
  },
  {
   "cell_type": "markdown",
   "metadata": {},
   "source": [
    "Q> Is the below code valid?\n",
    "        a = tf.constant(1)\n",
    "        a = tf.constant(2)\n",
    "* Options\n",
    "       \n",
    "       * Yes \n",
    "       \n",
    "       * No\n",
    "\n",
    "\n",
    "\n",
    "Correct Answer yes\n",
    "\n",
    "\n",
    "Solution Description\n",
    "\n",
    "\n",
    "Here we aren’t changing the constant, we have created another constant with different value. Python variable a is not a constant."
   ]
  },
  {
   "cell_type": "markdown",
   "metadata": {},
   "source": [
    "#### Matrix Multiplication\n",
    "\n",
    "Q>\n",
    "    What’s the output of the following code?\n",
    "       \n",
    "       a1 = tf.constant([[3,3]])\n",
    "\n",
    "        a2 = tf.constant([[3,2],[3,3], [1,2]])\n",
    "\n",
    "        res = tf.matmul(a1, a2)\n",
    "\n",
    "        sess.run(res)\n",
    "* Options\n",
    "        \n",
    "        A 2D matrix\n",
    "        \n",
    "        A single integer\n",
    "        \n",
    "        Error \n",
    "        \n",
    "        None of the above\n",
    "\n",
    "Correct Answer 3\n",
    "\n",
    "Matrix dimensions should match for multiplication"
   ]
  },
  {
   "cell_type": "code",
   "execution_count": null,
   "metadata": {},
   "outputs": [],
   "source": []
  }
 ],
 "metadata": {
  "kernelspec": {
   "display_name": "Python 3",
   "language": "python",
   "name": "python3"
  },
  "language_info": {
   "codemirror_mode": {
    "name": "ipython",
    "version": 3
   },
   "file_extension": ".py",
   "mimetype": "text/x-python",
   "name": "python",
   "nbconvert_exporter": "python",
   "pygments_lexer": "ipython3",
   "version": "3.7.1"
  }
 },
 "nbformat": 4,
 "nbformat_minor": 2
}
