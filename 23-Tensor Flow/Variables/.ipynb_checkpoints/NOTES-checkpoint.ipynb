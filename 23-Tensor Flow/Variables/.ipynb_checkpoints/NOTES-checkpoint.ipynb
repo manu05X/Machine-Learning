{
 "cells": [
  {
   "cell_type": "markdown",
   "metadata": {},
   "source": [
    "##### Output Question\n",
    "Q>\n",
    "What will be the output of the following code ?\n",
    "        \n",
    "        var1 = tf.Variable(100)\n",
    "        sess= tf.Session()\n",
    "        sess.run(tf.global_variables_initializer())\n",
    "        assign = var1.assign(12.32)\n",
    "        sess.run(assign)\n",
    "* Options\n",
    "        \n",
    "        12\n",
    "        \n",
    "        12.32\n",
    "        \n",
    "        Error \n",
    "\n",
    "Correct Answer 3\n",
    "\n",
    "var1 was supposed to have int32 value but 12.32 which is float was passed, hence error ."
   ]
  },
  {
   "cell_type": "markdown",
   "metadata": {},
   "source": [
    "###### Output Question\n",
    "Q>\n",
    "What will be the output ?\n",
    "        \n",
    "        var1 = tf.Variable(100)\n",
    "        var2 = tf.Variable(200)\n",
    "        sess= tf.Session()\n",
    "        sess.run(tf.global_variables_initializer())\n",
    "        var3 = tf.Variable(300)\n",
    "        sess.run(var3)\n",
    "* Options\n",
    "        \n",
    "        300\n",
    "        \n",
    "        Error \n",
    "\n",
    "Correct Answer 2\n",
    "\n",
    "Variable initializers must be run explicitly before other ops in your model can be run. Since var3 was not initialized (as it is written after global variable initializer) it created error"
   ]
  },
  {
   "cell_type": "code",
   "execution_count": null,
   "metadata": {},
   "outputs": [],
   "source": []
  }
 ],
 "metadata": {
  "kernelspec": {
   "display_name": "Python 3",
   "language": "python",
   "name": "python3"
  },
  "language_info": {
   "codemirror_mode": {
    "name": "ipython",
    "version": 3
   },
   "file_extension": ".py",
   "mimetype": "text/x-python",
   "name": "python",
   "nbconvert_exporter": "python",
   "pygments_lexer": "ipython3",
   "version": "3.7.1"
  }
 },
 "nbformat": 4,
 "nbformat_minor": 2
}
