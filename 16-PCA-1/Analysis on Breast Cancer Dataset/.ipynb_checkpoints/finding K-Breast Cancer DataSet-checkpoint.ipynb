{
 "cells": [
  {
   "cell_type": "code",
   "execution_count": 1,
   "metadata": {},
   "outputs": [],
   "source": [
    "from sklearn import decomposition,linear_model,datasets\n",
    "import numpy as np\n",
    "import time\n",
    "from sklearn.preprocessing import StandardScaler\n",
    "from sklearn.model_selection import train_test_split"
   ]
  },
  {
   "cell_type": "code",
   "execution_count": 2,
   "metadata": {},
   "outputs": [],
   "source": [
    "breast_cancer=datasets.load_breast_cancer()"
   ]
  },
  {
   "cell_type": "code",
   "execution_count": 3,
   "metadata": {},
   "outputs": [
    {
     "data": {
      "text/plain": [
       "(569, 30)"
      ]
     },
     "execution_count": 3,
     "metadata": {},
     "output_type": "execute_result"
    }
   ],
   "source": [
    "X=breast_cancer.data\n",
    "X.shape"
   ]
  },
  {
   "cell_type": "code",
   "execution_count": 4,
   "metadata": {},
   "outputs": [],
   "source": [
    "sc=StandardScaler()\n",
    "X_std=sc.fit_transform(X)"
   ]
  },
  {
   "cell_type": "code",
   "execution_count": 5,
   "metadata": {},
   "outputs": [],
   "source": [
    "x_train,x_test,y_train,y_test=train_test_split(X_std,breast_cancer.target,random_state=0)"
   ]
  },
  {
   "cell_type": "code",
   "execution_count": 6,
   "metadata": {},
   "outputs": [],
   "source": [
    "pca=decomposition.PCA()"
   ]
  },
  {
   "cell_type": "code",
   "execution_count": 7,
   "metadata": {},
   "outputs": [
    {
     "data": {
      "text/plain": [
       "array([[-2.83807710e+00, -3.19380204e-01, -5.09786956e-01, ...,\n",
       "         2.21524204e-03,  1.76560105e-02,  2.17290491e-03],\n",
       "       [-3.23881077e+00,  9.46695152e-01,  1.46301470e+00, ...,\n",
       "        -3.50930341e-03,  1.56914143e-02,  1.44518116e-02],\n",
       "       [ 3.92831902e+00, -3.30091570e+00,  1.84183164e+00, ...,\n",
       "         2.00501871e-02, -3.44990391e-02, -1.16657352e-02],\n",
       "       ...,\n",
       "       [-3.17962251e+00,  4.33267733e-01,  5.77005027e-01, ...,\n",
       "         3.85704447e-02, -4.18716728e-02,  1.59435183e-02],\n",
       "       [-5.59141525e+00, -7.52889177e-01,  4.06478207e+00, ...,\n",
       "         1.97618354e-02, -1.70355933e-02,  4.38111630e-03],\n",
       "       [-1.20802261e+00,  1.32965049e+00,  1.26115052e+00, ...,\n",
       "        -1.32544095e-02, -1.58653526e-03, -1.14601436e-02]])"
      ]
     },
     "execution_count": 7,
     "metadata": {},
     "output_type": "execute_result"
    }
   ],
   "source": [
    "pca.fit_transform(x_train)"
   ]
  },
  {
   "cell_type": "code",
   "execution_count": 10,
   "metadata": {},
   "outputs": [
    {
     "data": {
      "text/plain": [
       "17"
      ]
     },
     "execution_count": 10,
     "metadata": {},
     "output_type": "execute_result"
    }
   ],
   "source": [
    "\n",
    "total = sum(pca.explained_variance_)\n",
    "k = 0\n",
    "current_variance = 0\n",
    "while current_variance/total < 0.99:\n",
    "    current_variance += pca.explained_variance_[k]\n",
    "    k = k+1\n",
    "k\n",
    "\n",
    "#therefor if we keep 17 component we will hit 99% of variance"
   ]
  },
  {
   "cell_type": "code",
   "execution_count": 11,
   "metadata": {},
   "outputs": [
    {
     "data": {
      "text/plain": [
       "10"
      ]
     },
     "execution_count": 11,
     "metadata": {},
     "output_type": "execute_result"
    }
   ],
   "source": [
    "#and if we keep 10 component we will hit 95% of variance\n",
    "total = sum(pca.explained_variance_)\n",
    "k = 0\n",
    "current_variance = 0\n",
    "while current_variance/total < 0.95:\n",
    "    current_variance += pca.explained_variance_[k]\n",
    "    k = k+1\n",
    "k"
   ]
  },
  {
   "cell_type": "code",
   "execution_count": 6,
   "metadata": {},
   "outputs": [],
   "source": [
    "pca=decomposition.PCA(n_components=15)\n",
    "x_train_pca=pca.fit_transform(x_train)\n",
    "x_test_pca=pca.transform(x_test)"
   ]
  },
  {
   "cell_type": "code",
   "execution_count": 7,
   "metadata": {},
   "outputs": [
    {
     "name": "stdout",
     "output_type": "stream",
     "text": [
      "0.08087944984436035\n",
      "0.965034965034965\n"
     ]
    },
    {
     "name": "stderr",
     "output_type": "stream",
     "text": [
      "C:\\Users\\Anaconda\\lib\\site-packages\\sklearn\\linear_model\\logistic.py:433: FutureWarning: Default solver will be changed to 'lbfgs' in 0.22. Specify a solver to silence this warning.\n",
      "  FutureWarning)\n"
     ]
    }
   ],
   "source": [
    "lr=linear_model.LogisticRegression()\n",
    "start=time.time()\n",
    "lr.fit(x_train,y_train)\n",
    "ending=time.time()\n",
    "print(ending-start)\n",
    "print(lr.score(x_test,y_test))"
   ]
  },
  {
   "cell_type": "code",
   "execution_count": 8,
   "metadata": {},
   "outputs": [
    {
     "name": "stdout",
     "output_type": "stream",
     "text": [
      "0.003032207489013672\n",
      "0.958041958041958\n"
     ]
    },
    {
     "name": "stderr",
     "output_type": "stream",
     "text": [
      "C:\\Users\\Anaconda\\lib\\site-packages\\sklearn\\linear_model\\logistic.py:433: FutureWarning: Default solver will be changed to 'lbfgs' in 0.22. Specify a solver to silence this warning.\n",
      "  FutureWarning)\n"
     ]
    }
   ],
   "source": [
    "lr=linear_model.LogisticRegression()\n",
    "start=time.time()\n",
    "lr.fit(x_train_pca,y_train)\n",
    "ending=time.time()\n",
    "print(ending-start)\n",
    "print(lr.score(x_test_pca,y_test))"
   ]
  },
  {
   "cell_type": "code",
   "execution_count": 10,
   "metadata": {},
   "outputs": [
    {
     "data": {
      "text/plain": [
       "array([13.02746837,  5.81556555,  2.85848795,  1.91901713,  1.70021491,\n",
       "        1.20663908,  0.65333715,  0.42673847,  0.42645054,  0.34558986,\n",
       "        0.30805491,  0.25605447,  0.228152  ,  0.14326274,  0.0926283 ])"
      ]
     },
     "execution_count": 10,
     "metadata": {},
     "output_type": "execute_result"
    }
   ],
   "source": [
    "pca.explained_variance_"
   ]
  },
  {
   "cell_type": "code",
   "execution_count": null,
   "metadata": {},
   "outputs": [],
   "source": []
  }
 ],
 "metadata": {
  "kernelspec": {
   "display_name": "Python 3",
   "language": "python",
   "name": "python3"
  },
  "language_info": {
   "codemirror_mode": {
    "name": "ipython",
    "version": 3
   },
   "file_extension": ".py",
   "mimetype": "text/x-python",
   "name": "python",
   "nbconvert_exporter": "python",
   "pygments_lexer": "ipython3",
   "version": "3.7.1"
  }
 },
 "nbformat": 4,
 "nbformat_minor": 2
}
