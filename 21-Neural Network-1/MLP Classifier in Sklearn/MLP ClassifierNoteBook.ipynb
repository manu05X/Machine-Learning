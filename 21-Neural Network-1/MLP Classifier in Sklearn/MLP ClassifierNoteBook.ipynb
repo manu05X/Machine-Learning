{
 "cells": [
  {
   "cell_type": "code",
   "execution_count": 1,
   "metadata": {},
   "outputs": [],
   "source": [
    "from sklearn import datasets\n",
    "from sklearn.model_selection import train_test_split"
   ]
  },
  {
   "cell_type": "code",
   "execution_count": 2,
   "metadata": {},
   "outputs": [],
   "source": [
    "iris = datasets.load_iris()"
   ]
  },
  {
   "cell_type": "code",
   "execution_count": 3,
   "metadata": {},
   "outputs": [],
   "source": [
    "x = iris.data\n",
    "y = iris.target"
   ]
  },
  {
   "cell_type": "code",
   "execution_count": 4,
   "metadata": {},
   "outputs": [],
   "source": [
    "x_train,x_test,y_train,y_test = train_test_split(x,y)"
   ]
  },
  {
   "cell_type": "code",
   "execution_count": 6,
   "metadata": {},
   "outputs": [
    {
     "data": {
      "text/plain": [
       "array([1, 1, 0, 2, 2, 1, 0, 1, 1, 0, 0, 1, 2, 0, 0, 2, 2, 1, 0, 0, 1, 0,\n",
       "       2, 1, 0, 2, 1, 2, 1, 1, 0, 2, 2, 1, 2, 2, 1, 2, 0, 0, 2, 0, 0, 1,\n",
       "       0, 2, 2, 1, 2, 0, 1, 0, 0, 1, 2, 1, 0, 1, 1, 2, 0, 2, 0, 1, 2, 0,\n",
       "       2, 0, 0, 1, 1, 0, 2, 0, 2, 1, 1, 1, 0, 0, 2, 0, 0, 1, 1, 0, 2, 1,\n",
       "       1, 2, 2, 2, 0, 2, 2, 2, 1, 2, 0, 2, 0, 1, 0, 0, 2, 2, 2, 1, 2, 1,\n",
       "       0, 2])"
      ]
     },
     "execution_count": 6,
     "metadata": {},
     "output_type": "execute_result"
    }
   ],
   "source": [
    "y_train"
   ]
  },
  {
   "cell_type": "markdown",
   "metadata": {},
   "source": [
    "Now importing the required classifier"
   ]
  },
  {
   "cell_type": "code",
   "execution_count": 5,
   "metadata": {},
   "outputs": [],
   "source": [
    "from sklearn.neural_network import MLPClassifier"
   ]
  },
  {
   "cell_type": "code",
   "execution_count": 7,
   "metadata": {},
   "outputs": [
    {
     "name": "stderr",
     "output_type": "stream",
     "text": [
      "C:\\Users\\Anaconda\\lib\\site-packages\\sklearn\\neural_network\\multilayer_perceptron.py:562: ConvergenceWarning: Stochastic Optimizer: Maximum iterations (200) reached and the optimization hasn't converged yet.\n",
      "  % self.max_iter, ConvergenceWarning)\n"
     ]
    },
    {
     "data": {
      "text/plain": [
       "MLPClassifier(activation='relu', alpha=0.0001, batch_size='auto', beta_1=0.9,\n",
       "       beta_2=0.999, early_stopping=False, epsilon=1e-08,\n",
       "       hidden_layer_sizes=(100,), learning_rate='constant',\n",
       "       learning_rate_init=0.001, max_iter=200, momentum=0.9,\n",
       "       n_iter_no_change=10, nesterovs_momentum=True, power_t=0.5,\n",
       "       random_state=None, shuffle=True, solver='adam', tol=0.0001,\n",
       "       validation_fraction=0.1, verbose=False, warm_start=False)"
      ]
     },
     "execution_count": 7,
     "metadata": {},
     "output_type": "execute_result"
    }
   ],
   "source": [
    "#creating obj of classifier\n",
    "clf = MLPClassifier()\n",
    "clf.fit(x_train, y_train)"
   ]
  },
  {
   "cell_type": "code",
   "execution_count": 8,
   "metadata": {},
   "outputs": [
    {
     "data": {
      "text/plain": [
       "0.9736842105263158"
      ]
     },
     "execution_count": 8,
     "metadata": {},
     "output_type": "execute_result"
    }
   ],
   "source": [
    "#finding score\n",
    "clf.score(x_test, y_test)"
   ]
  },
  {
   "cell_type": "code",
   "execution_count": 20,
   "metadata": {},
   "outputs": [
    {
     "data": {
      "text/plain": [
       "MLPClassifier(activation='relu', alpha=0.0001, batch_size='auto', beta_1=0.9,\n",
       "       beta_2=0.999, early_stopping=False, epsilon=1e-08,\n",
       "       hidden_layer_sizes=(30,), learning_rate='constant',\n",
       "       learning_rate_init=0.001, max_iter=5000, momentum=0.9,\n",
       "       n_iter_no_change=10, nesterovs_momentum=True, power_t=0.5,\n",
       "       random_state=None, shuffle=True, solver='adam', tol=0.0001,\n",
       "       validation_fraction=0.1, verbose=False, warm_start=False)"
      ]
     },
     "execution_count": 20,
     "metadata": {},
     "output_type": "execute_result"
    }
   ],
   "source": [
    "#changing some of default features in classifier for better performance\n",
    "clf2 = MLPClassifier(hidden_layer_sizes = (30,), max_iter = 5000)\n",
    "clf2.fit(x_train, y_train)"
   ]
  },
  {
   "cell_type": "code",
   "execution_count": 21,
   "metadata": {},
   "outputs": [
    {
     "data": {
      "text/plain": [
       "0.9736842105263158"
      ]
     },
     "execution_count": 21,
     "metadata": {},
     "output_type": "execute_result"
    }
   ],
   "source": [
    "#finding score\n",
    "clf2.score(x_test, y_test)"
   ]
  },
  {
   "cell_type": "code",
   "execution_count": 23,
   "metadata": {
    "scrolled": true
   },
   "outputs": [
    {
     "data": {
      "text/plain": [
       "[array([[-1.05043055e-01,  4.95783577e-02,  3.29680253e-01,\n",
       "         -2.10767075e-02,  1.64462615e-01,  1.07710807e-01,\n",
       "          1.29054330e-18, -5.81947751e-03,  1.44339240e-14,\n",
       "          2.54466261e-01, -9.96095041e-15, -1.17963449e-08,\n",
       "          1.05100384e-01, -9.03027903e-02,  3.38723036e-01,\n",
       "          1.52872089e-01,  3.45722852e-01, -2.29425641e-01,\n",
       "         -4.26617471e-01,  5.20168573e-04, -7.86615663e-03,\n",
       "          4.72839709e-01,  3.16570982e-01,  4.79421117e-01,\n",
       "         -7.80846635e-04,  4.36807384e-01, -2.84968989e-01,\n",
       "          1.49188393e-01,  2.19448099e-01,  1.86469061e-01],\n",
       "        [ 3.61721546e-01,  2.30406441e-01,  1.63827090e-01,\n",
       "         -1.93602556e-02, -1.54948309e-01,  7.41376201e-02,\n",
       "         -2.16817848e-16, -3.26892829e-04, -9.21478841e-03,\n",
       "          2.56649191e-01,  1.18914333e-06, -4.33879351e-04,\n",
       "          5.36465064e-01,  5.38838483e-01,  7.53003063e-01,\n",
       "          5.41547415e-01, -3.78615212e-01, -1.25173923e-02,\n",
       "         -4.37977579e-01, -5.09808619e-03,  6.81256917e-08,\n",
       "          3.36060122e-01,  3.64197964e-01, -4.40856051e-02,\n",
       "          4.31198232e-09, -1.89459710e-01, -7.12878142e-01,\n",
       "          4.78741174e-01,  1.40289262e-01, -2.72787159e-01],\n",
       "        [-9.34082987e-02, -2.41402892e-01, -3.35826248e-01,\n",
       "          7.80053297e-16,  2.43866292e-01,  4.01250893e-01,\n",
       "          2.06343378e-12,  1.91825553e-19,  2.07514136e-21,\n",
       "         -3.94053337e-01, -4.54215504e-03,  3.50867280e-14,\n",
       "         -2.17611838e-01, -1.86256518e-01, -6.71300507e-01,\n",
       "         -5.50854536e-01,  5.55665414e-01,  3.42181957e-01,\n",
       "          7.95660080e-01, -9.68552446e-03, -1.96906908e-03,\n",
       "         -3.70213877e-01, -6.20361517e-01, -3.14172063e-01,\n",
       "          4.89057392e-08, -3.71218325e-01,  7.50921001e-01,\n",
       "         -3.09825785e-01, -1.92928211e-01,  5.05624740e-01],\n",
       "        [ 4.54013227e-02, -2.33206286e-01, -5.90161010e-01,\n",
       "         -1.86277935e-03,  2.98894141e-01,  2.47003880e-01,\n",
       "         -1.88514632e-02,  1.09940631e-03,  7.27593230e-09,\n",
       "          4.35284589e-02, -7.28378942e-05,  1.15170444e-05,\n",
       "         -5.16719933e-01, -2.82637377e-01, -7.86095203e-01,\n",
       "         -6.49213840e-01,  6.92688849e-01, -3.79095620e-01,\n",
       "          8.41446286e-01, -5.58741035e-05,  4.19800515e-05,\n",
       "         -5.60824520e-01, -3.87739340e-01, -5.27105286e-01,\n",
       "          1.56815111e-06, -4.16696054e-01,  8.61171662e-01,\n",
       "         -4.77677441e-01, -6.32757493e-01,  3.34507703e-01]]),\n",
       " array([[-4.70699485e-02,  2.17617980e-01, -2.86443270e-01],\n",
       "        [ 2.58758157e-01, -2.59640415e-01, -1.87395024e-01],\n",
       "        [ 5.04811769e-01,  8.46580968e-02, -2.48007371e-01],\n",
       "        [ 8.22878449e-13,  2.27895526e-02, -8.32054780e-05],\n",
       "        [-4.52064668e-01,  9.63771705e-02,  3.62547239e-01],\n",
       "        [-3.95217628e-01, -9.15610948e-02,  1.10325119e-01],\n",
       "        [-6.02651377e-03,  5.87418171e-12, -1.31751674e-05],\n",
       "        [-3.41820043e-08,  4.81663804e-04,  5.94849252e-04],\n",
       "        [-3.66255846e-04, -3.90477933e-03,  4.31661259e-03],\n",
       "        [ 1.48487928e-01, -4.17091061e-01,  1.91732424e-01],\n",
       "        [ 3.35352538e-17,  9.21568893e-04,  5.77544533e-07],\n",
       "        [ 4.16272405e-06,  1.31282459e-02, -1.20911743e-02],\n",
       "        [ 4.39053832e-01,  2.59091310e-01, -1.11460894e-02],\n",
       "        [ 2.69240804e-01, -2.17117925e-01, -6.11796224e-01],\n",
       "        [ 8.96619999e-01,  8.35546545e-01, -8.28800648e-01],\n",
       "        [ 6.40402823e-01, -6.66094001e-01, -4.84566789e-01],\n",
       "        [-5.21165517e-01,  4.49245770e-01,  3.80415639e-01],\n",
       "        [-5.83411724e-01, -6.15954709e-01,  8.84788321e-01],\n",
       "        [ 5.42362417e-02, -2.39733637e-01,  8.57574138e-01],\n",
       "        [ 4.48097639e-11,  9.44595321e-18, -9.97910880e-03],\n",
       "        [ 2.04792116e-03,  2.79648363e-16, -9.86908077e-09],\n",
       "        [ 1.99196642e-01,  1.10024419e-01, -1.39851942e-01],\n",
       "        [ 3.04511627e-01, -7.94346670e-01, -1.67261980e-01],\n",
       "        [ 1.60292028e-01,  6.50968812e-01, -5.44908268e-01],\n",
       "        [ 5.91735699e-03,  2.28121641e-02,  1.30224713e-02],\n",
       "        [ 4.13935941e-01,  7.18758379e-01, -6.93834695e-01],\n",
       "        [-5.02614166e-01, -9.03833559e-01,  2.12643251e-01],\n",
       "        [ 2.94697229e-01,  3.30832471e-01, -9.67084151e-01],\n",
       "        [ 5.52556994e-01, -4.21288837e-01, -6.28146318e-02],\n",
       "        [-7.00523372e-02,  4.20390560e-02,  4.50001804e-01]])]"
      ]
     },
     "execution_count": 23,
     "metadata": {},
     "output_type": "execute_result"
    }
   ],
   "source": [
    "#this coefs does not include biases\n",
    "clf2.coefs_"
   ]
  },
  {
   "cell_type": "code",
   "execution_count": 24,
   "metadata": {},
   "outputs": [
    {
     "data": {
      "text/plain": [
       "2"
      ]
     },
     "execution_count": 24,
     "metadata": {},
     "output_type": "execute_result"
    }
   ],
   "source": [
    "len(clf2.coefs_)"
   ]
  },
  {
   "cell_type": "code",
   "execution_count": 25,
   "metadata": {},
   "outputs": [
    {
     "data": {
      "text/plain": [
       "(4, 30)"
      ]
     },
     "execution_count": 25,
     "metadata": {},
     "output_type": "execute_result"
    }
   ],
   "source": [
    "clf2.coefs_[0].shape"
   ]
  },
  {
   "cell_type": "markdown",
   "metadata": {},
   "source": [
    "so we have 4 features and 30 hidden layer units. so no of weight we have is 4*30"
   ]
  },
  {
   "cell_type": "code",
   "execution_count": 26,
   "metadata": {},
   "outputs": [
    {
     "data": {
      "text/plain": [
       "((4, 30), (30, 3))"
      ]
     },
     "execution_count": 26,
     "metadata": {},
     "output_type": "execute_result"
    }
   ],
   "source": [
    "clf2.coefs_[0].shape,clf2.coefs_[1].shape"
   ]
  },
  {
   "cell_type": "code",
   "execution_count": 27,
   "metadata": {},
   "outputs": [
    {
     "data": {
      "text/plain": [
       "((30,), (3,))"
      ]
     },
     "execution_count": 27,
     "metadata": {},
     "output_type": "execute_result"
    }
   ],
   "source": [
    "#intercepts are the biases\n",
    "clf2.intercepts_[0].shape,clf2.intercepts_[1].shape"
   ]
  },
  {
   "cell_type": "markdown",
   "metadata": {},
   "source": [
    "so we have 20 intercept at 0'th and 3 at 1'st"
   ]
  },
  {
   "cell_type": "code",
   "execution_count": null,
   "metadata": {},
   "outputs": [],
   "source": []
  }
 ],
 "metadata": {
  "kernelspec": {
   "display_name": "Python 3",
   "language": "python",
   "name": "python3"
  },
  "language_info": {
   "codemirror_mode": {
    "name": "ipython",
    "version": 3
   },
   "file_extension": ".py",
   "mimetype": "text/x-python",
   "name": "python",
   "nbconvert_exporter": "python",
   "pygments_lexer": "ipython3",
   "version": "3.7.1"
  }
 },
 "nbformat": 4,
 "nbformat_minor": 2
}
