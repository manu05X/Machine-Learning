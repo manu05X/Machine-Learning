{
 "cells": [
  {
   "cell_type": "markdown",
   "metadata": {},
   "source": [
    "Q>\n",
    "If we have a data-set of 30,000 images and each image has dimensions as 100 x 200, then what will be the total number of features we will feed to the PCA model as discussed in the video?\n",
    "\n",
    "\n",
    "Options\n",
    "  * a  10\n",
    "  * b  20\n",
    "  * c  20000 \n",
    "  * d  30000\n",
    "\n",
    "\n",
    "Correct Answer c\n",
    "* Solution Description we take all the pixels as features"
   ]
  },
  {
   "cell_type": "markdown",
   "metadata": {},
   "source": [
    "Q>\n",
    "Applying PCA on images is suggested because\n",
    "\n",
    "\n",
    "Options\n",
    "* PCA improves the training speed \n",
    "* Images have huge number of features \n",
    "* Lots of covariance among features \n",
    "* Applying PCA reduces the total memory requirement \n",
    "\n",
    "\n",
    "Correct Answer: All\n"
   ]
  },
  {
   "cell_type": "code",
   "execution_count": null,
   "metadata": {},
   "outputs": [],
   "source": []
  }
 ],
 "metadata": {
  "kernelspec": {
   "display_name": "Python 3",
   "language": "python",
   "name": "python3"
  },
  "language_info": {
   "codemirror_mode": {
    "name": "ipython",
    "version": 3
   },
   "file_extension": ".py",
   "mimetype": "text/x-python",
   "name": "python",
   "nbconvert_exporter": "python",
   "pygments_lexer": "ipython3",
   "version": "3.7.1"
  }
 },
 "nbformat": 4,
 "nbformat_minor": 2
}
