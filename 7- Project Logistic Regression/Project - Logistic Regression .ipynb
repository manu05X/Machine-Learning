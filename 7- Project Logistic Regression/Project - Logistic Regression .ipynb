{
 "cells": [
  {
   "cell_type": "code",
   "execution_count": 3,
   "metadata": {},
   "outputs": [],
   "source": [
    "import numpy as np\n",
    "import pandas as pd"
   ]
  },
  {
   "cell_type": "code",
   "execution_count": 4,
   "metadata": {},
   "outputs": [],
   "source": [
    "# Getting Data\n",
    "train_df = pd.read_csv('train.csv')\n",
    "test_df = pd.read_csv('test.csv')"
   ]
  },
  {
   "cell_type": "code",
   "execution_count": 5,
   "metadata": {},
   "outputs": [
    {
     "name": "stdout",
     "output_type": "stream",
     "text": [
      "<class 'pandas.core.frame.DataFrame'>\n",
      "RangeIndex: 668 entries, 0 to 667\n",
      "Data columns (total 11 columns):\n",
      "Pclass      668 non-null int64\n",
      "Name        668 non-null object\n",
      "Sex         668 non-null object\n",
      "Age         536 non-null float64\n",
      "SibSp       668 non-null int64\n",
      "Parch       668 non-null int64\n",
      "Ticket      668 non-null object\n",
      "Fare        668 non-null float64\n",
      "Cabin       154 non-null object\n",
      "Embarked    667 non-null object\n",
      "Survived    668 non-null int64\n",
      "dtypes: float64(2), int64(4), object(5)\n",
      "memory usage: 57.5+ KB\n"
     ]
    },
    {
     "data": {
      "text/html": [
       "<div>\n",
       "<style scoped>\n",
       "    .dataframe tbody tr th:only-of-type {\n",
       "        vertical-align: middle;\n",
       "    }\n",
       "\n",
       "    .dataframe tbody tr th {\n",
       "        vertical-align: top;\n",
       "    }\n",
       "\n",
       "    .dataframe thead th {\n",
       "        text-align: right;\n",
       "    }\n",
       "</style>\n",
       "<table border=\"1\" class=\"dataframe\">\n",
       "  <thead>\n",
       "    <tr style=\"text-align: right;\">\n",
       "      <th></th>\n",
       "      <th>Pclass</th>\n",
       "      <th>Age</th>\n",
       "      <th>SibSp</th>\n",
       "      <th>Parch</th>\n",
       "      <th>Fare</th>\n",
       "      <th>Survived</th>\n",
       "    </tr>\n",
       "  </thead>\n",
       "  <tbody>\n",
       "    <tr>\n",
       "      <th>count</th>\n",
       "      <td>668.000000</td>\n",
       "      <td>536.000000</td>\n",
       "      <td>668.000000</td>\n",
       "      <td>668.000000</td>\n",
       "      <td>668.000000</td>\n",
       "      <td>668.000000</td>\n",
       "    </tr>\n",
       "    <tr>\n",
       "      <th>mean</th>\n",
       "      <td>2.296407</td>\n",
       "      <td>29.700560</td>\n",
       "      <td>0.528443</td>\n",
       "      <td>0.407186</td>\n",
       "      <td>32.064552</td>\n",
       "      <td>0.402695</td>\n",
       "    </tr>\n",
       "    <tr>\n",
       "      <th>std</th>\n",
       "      <td>0.831638</td>\n",
       "      <td>14.240257</td>\n",
       "      <td>1.080327</td>\n",
       "      <td>0.854695</td>\n",
       "      <td>45.320835</td>\n",
       "      <td>0.490808</td>\n",
       "    </tr>\n",
       "    <tr>\n",
       "      <th>min</th>\n",
       "      <td>1.000000</td>\n",
       "      <td>0.670000</td>\n",
       "      <td>0.000000</td>\n",
       "      <td>0.000000</td>\n",
       "      <td>0.000000</td>\n",
       "      <td>0.000000</td>\n",
       "    </tr>\n",
       "    <tr>\n",
       "      <th>25%</th>\n",
       "      <td>2.000000</td>\n",
       "      <td>21.000000</td>\n",
       "      <td>0.000000</td>\n",
       "      <td>0.000000</td>\n",
       "      <td>7.925000</td>\n",
       "      <td>0.000000</td>\n",
       "    </tr>\n",
       "    <tr>\n",
       "      <th>50%</th>\n",
       "      <td>3.000000</td>\n",
       "      <td>29.000000</td>\n",
       "      <td>0.000000</td>\n",
       "      <td>0.000000</td>\n",
       "      <td>14.750000</td>\n",
       "      <td>0.000000</td>\n",
       "    </tr>\n",
       "    <tr>\n",
       "      <th>75%</th>\n",
       "      <td>3.000000</td>\n",
       "      <td>38.250000</td>\n",
       "      <td>1.000000</td>\n",
       "      <td>0.000000</td>\n",
       "      <td>31.275000</td>\n",
       "      <td>1.000000</td>\n",
       "    </tr>\n",
       "    <tr>\n",
       "      <th>max</th>\n",
       "      <td>3.000000</td>\n",
       "      <td>80.000000</td>\n",
       "      <td>8.000000</td>\n",
       "      <td>6.000000</td>\n",
       "      <td>512.329200</td>\n",
       "      <td>1.000000</td>\n",
       "    </tr>\n",
       "  </tbody>\n",
       "</table>\n",
       "</div>"
      ],
      "text/plain": [
       "           Pclass         Age       SibSp       Parch        Fare    Survived\n",
       "count  668.000000  536.000000  668.000000  668.000000  668.000000  668.000000\n",
       "mean     2.296407   29.700560    0.528443    0.407186   32.064552    0.402695\n",
       "std      0.831638   14.240257    1.080327    0.854695   45.320835    0.490808\n",
       "min      1.000000    0.670000    0.000000    0.000000    0.000000    0.000000\n",
       "25%      2.000000   21.000000    0.000000    0.000000    7.925000    0.000000\n",
       "50%      3.000000   29.000000    0.000000    0.000000   14.750000    0.000000\n",
       "75%      3.000000   38.250000    1.000000    0.000000   31.275000    1.000000\n",
       "max      3.000000   80.000000    8.000000    6.000000  512.329200    1.000000"
      ]
     },
     "execution_count": 5,
     "metadata": {},
     "output_type": "execute_result"
    }
   ],
   "source": [
    "# Data Exploration / Analysis\n",
    "train_df.info()\n",
    "train_df.describe()"
   ]
  },
  {
   "cell_type": "code",
   "execution_count": 7,
   "metadata": {},
   "outputs": [],
   "source": [
    "# Missing Data\n",
    "# Cabin\n",
    "data = [train_df, test_df]\n",
    "\n",
    "def getDeck(x) :\n",
    "    return x[0:1]\n",
    "\n",
    "for dataset in data :\n",
    "    dataset['Cabin'].fillna('U0', inplace=True)\n",
    "    dataset['Deck'] = dataset.Cabin.apply(getDeck)\n",
    "\n",
    "train_df = train_df.drop(columns = ['Cabin'])\n",
    "test_df = test_df.drop(columns = ['Cabin'])\n"
   ]
  },
  {
   "cell_type": "code",
   "execution_count": 8,
   "metadata": {},
   "outputs": [],
   "source": [
    "# Age\n",
    "survived_mean = train_df[train_df.Survived == 1].Age.mean()\n",
    "not_survived_mean = train_df[train_df.Survived == 0].Age.mean()\n",
    "test_mean = test_df.Age.mean()\n",
    "\n",
    "train_df.update(train_df[train_df.Survived==1].Age.fillna(survived_mean))\n",
    "train_df.update(train_df[train_df.Survived==0].Age.fillna(not_survived_mean))\n",
    "test_df.Age.fillna(test_mean, inplace=True)"
   ]
  },
  {
   "cell_type": "code",
   "execution_count": 9,
   "metadata": {},
   "outputs": [],
   "source": [
    "# Embarked\n",
    "data = [train_df, test_df]\n",
    "for dataset in data :\n",
    "    dataset.Embarked.fillna('S', inplace=True)"
   ]
  },
  {
   "cell_type": "code",
   "execution_count": 10,
   "metadata": {},
   "outputs": [],
   "source": [
    "# Drop Ticket and Name\n",
    "train_df = train_df.drop(columns=['Ticket'])\n",
    "test_df = test_df.drop(columns=['Ticket'])\n",
    "train_df = train_df.drop(columns=['Name'])\n",
    "test_df = test_df.drop(columns=['Name'])"
   ]
  },
  {
   "cell_type": "code",
   "execution_count": 11,
   "metadata": {},
   "outputs": [],
   "source": [
    "# Getting Survived Column\n",
    "y_df = train_df.Survived\n",
    "train_df = train_df.drop(columns = ['Survived'])\n"
   ]
  },
  {
   "cell_type": "code",
   "execution_count": 12,
   "metadata": {},
   "outputs": [],
   "source": [
    "# Categorical Data\n",
    "def sex(x) :\n",
    "    if x == 'male' :\n",
    "        return 1\n",
    "    else :\n",
    "        return 0\n",
    "\n",
    "def embarked(x) :\n",
    "    if x == 'S' :\n",
    "        return 0\n",
    "    elif x == 'C' :\n",
    "        return 1\n",
    "    else:\n",
    "        return 2\n",
    "\n",
    "def deck(x) :\n",
    "    dic = {'A':0, 'B':1, 'C':2, 'D':3, 'E':4, 'F':5, 'G':6, 'U':7}\n",
    "    return dic[x]\n",
    "\n",
    "def hello(x) :\n",
    "    if x == 'T' :\n",
    "        return 'A'\n",
    "    else :\n",
    "        return x"
   ]
  },
  {
   "cell_type": "code",
   "execution_count": 13,
   "metadata": {},
   "outputs": [],
   "source": [
    "train_df.Deck = train_df.Deck.apply(hello)\n",
    "\n",
    "for i in range(len(train_df.values)) :\n",
    "    if train_df.iloc[i, 7] == 'T' :\n",
    "        print(i)"
   ]
  },
  {
   "cell_type": "code",
   "execution_count": 14,
   "metadata": {},
   "outputs": [],
   "source": [
    "data = [train_df, test_df]\n",
    "for dataset in data :\n",
    "    dataset['Sex'] = dataset['Sex'].apply(sex)\n",
    "    dataset['Embarked'] = dataset['Embarked'].apply(embarked)\n",
    "    dataset['Deck'] = dataset['Deck'].apply(deck)"
   ]
  },
  {
   "cell_type": "code",
   "execution_count": 15,
   "metadata": {},
   "outputs": [
    {
     "name": "stderr",
     "output_type": "stream",
     "text": [
      "C:\\Users\\Anaconda\\lib\\site-packages\\sklearn\\preprocessing\\_encoders.py:368: FutureWarning: The handling of integer data will change in version 0.22. Currently, the categories are determined based on the range [0, max(values)], while in the future they will be determined based on the unique values.\n",
      "If you want the future behaviour and silence this warning, you can specify \"categories='auto'\".\n",
      "In case you used a LabelEncoder before this OneHotEncoder to convert the categories to integers, then you can now use the OneHotEncoder directly.\n",
      "  warnings.warn(msg, FutureWarning)\n",
      "C:\\Users\\Anaconda\\lib\\site-packages\\sklearn\\preprocessing\\_encoders.py:390: DeprecationWarning: The 'categorical_features' keyword is deprecated in version 0.20 and will be removed in 0.22. You can use the ColumnTransformer instead.\n",
      "  \"use the ColumnTransformer instead.\", DeprecationWarning)\n"
     ]
    },
    {
     "data": {
      "text/plain": [
       "OneHotEncoder(categorical_features=[1, 6, 7], categories=None,\n",
       "       dtype=<class 'numpy.float64'>, handle_unknown='error',\n",
       "       n_values=None, sparse=True)"
      ]
     },
     "execution_count": 15,
     "metadata": {},
     "output_type": "execute_result"
    }
   ],
   "source": [
    "from sklearn.preprocessing import OneHotEncoder\n",
    "onehotencoder = OneHotEncoder(categorical_features=[1, 6, 7])\n",
    "onehotencoder.fit(train_df)"
   ]
  },
  {
   "cell_type": "code",
   "execution_count": 16,
   "metadata": {},
   "outputs": [],
   "source": [
    "train_df = onehotencoder.transform(train_df).toarray()\n",
    "test_df = onehotencoder.transform(test_df).toarray()"
   ]
  },
  {
   "cell_type": "code",
   "execution_count": 17,
   "metadata": {},
   "outputs": [
    {
     "name": "stderr",
     "output_type": "stream",
     "text": [
      "C:\\Users\\Anaconda\\lib\\site-packages\\sklearn\\linear_model\\logistic.py:433: FutureWarning: Default solver will be changed to 'lbfgs' in 0.22. Specify a solver to silence this warning.\n",
      "  FutureWarning)\n"
     ]
    }
   ],
   "source": [
    "from sklearn.linear_model import LogisticRegression\n",
    "algo = LogisticRegression()\n",
    "algo.fit(train_df, y_df)\n",
    "y_pred = algo.predict(test_df)\n"
   ]
  },
  {
   "cell_type": "code",
   "execution_count": 18,
   "metadata": {},
   "outputs": [],
   "source": [
    "np.savetxt('sol.csv', y_pred, fmt=\"%d\")"
   ]
  },
  {
   "cell_type": "code",
   "execution_count": null,
   "metadata": {},
   "outputs": [],
   "source": []
  }
 ],
 "metadata": {
  "kernelspec": {
   "display_name": "Python 3",
   "language": "python",
   "name": "python3"
  },
  "language_info": {
   "codemirror_mode": {
    "name": "ipython",
    "version": 3
   },
   "file_extension": ".py",
   "mimetype": "text/x-python",
   "name": "python",
   "nbconvert_exporter": "python",
   "pygments_lexer": "ipython3",
   "version": "3.7.1"
  }
 },
 "nbformat": 4,
 "nbformat_minor": 2
}
