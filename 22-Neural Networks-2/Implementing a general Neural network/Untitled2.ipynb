{
 "cells": [
  {
   "cell_type": "code",
   "execution_count": 1,
   "metadata": {},
   "outputs": [],
   "source": [
    "import numpy as np"
   ]
  },
  {
   "cell_type": "code",
   "execution_count": 2,
   "metadata": {},
   "outputs": [
    {
     "data": {
      "text/plain": [
       "((4, 2), (4, 1))"
      ]
     },
     "execution_count": 2,
     "metadata": {},
     "output_type": "execute_result"
    }
   ],
   "source": [
    "X = np.array([[0,0], [0,1], [1,0], [1,1]])\n",
    "Y = np.array([[0,1,1,0]]).T\n",
    "X.shape, Y.shape"
   ]
  },
  {
   "cell_type": "code",
   "execution_count": 3,
   "metadata": {},
   "outputs": [],
   "source": [
    "def sig(z):\n",
    "    return 1/(1 + np.exp(-z))"
   ]
  },
  {
   "cell_type": "code",
   "execution_count": 4,
   "metadata": {},
   "outputs": [],
   "source": [
    "def derivativeSig(z):\n",
    "    return sig(z)*(1 - sig(z))"
   ]
  },
  {
   "cell_type": "code",
   "execution_count": 5,
   "metadata": {},
   "outputs": [],
   "source": [
    "#one hidden layer weights\n",
    "wh = 2* np.random.random((2, 2)) - 1 # we have 2*2 weight at hidden layer\n",
    "bh = 2* np.random.random((1, 2)) - 1 # have 2 bias of 1*2\n",
    "wo = 2* np.random.random((2, 1)) - 1 # output layer we have only one unit\n",
    "bo = 2* np.random.random((1, 1)) - 1 # have only one bias\n",
    "lr = 0.1 # learning rate we use to update our weights"
   ]
  },
  {
   "cell_type": "code",
   "execution_count": 8,
   "metadata": {},
   "outputs": [
    {
     "data": {
      "text/plain": [
       "(array([[0.49597649],\n",
       "        [0.50098398],\n",
       "        [0.49917856],\n",
       "        [0.5043312 ]]), array([[0.4876485 , 0.19741873],\n",
       "        [0.76037966, 0.31354746]]), array([[-0.53253096,  0.14141591]]), array([[ 0.43325787],\n",
       "        [-0.79580806]]), array([[0.24962413]]))"
      ]
     },
     "execution_count": 8,
     "metadata": {},
     "output_type": "execute_result"
    }
   ],
   "source": [
    "for iter in range(10000):\n",
    "    Output0=X\n",
    "    inputHidden=np.dot(Output0,wh)+bh\n",
    "    outputHidden=sig(inputHidden)\n",
    "    inputForOutputLayer=np.dot(outputHidden,wo)+bo\n",
    "    Output=sig(inputForOutputLayer)\n",
    "    \n",
    "    first_term_output_layer=Output-Y\n",
    "    second_term_output_layer=derivativeSig(inputForOutputLayer)\n",
    "    first_two_output_layer=first_term_output_layer*second_term_output_layer\n",
    "    \n",
    "    first_term_hidden_layer=np.dot(first_two_output_layer,wo.T)\n",
    "    second_term_hidden_layer=derivativeSig(inputHidden)\n",
    "    first_two_hidden_layer=first_term_hidden_layer*second_term_output_layer\n",
    "    \n",
    "    changes_output=np.dot(outputHidden.T,first_two_output_layer)\n",
    "    changes_output_bias=np.sum(first_two_output_layer,axis=0,keepdims=True)\n",
    "    changes_hidden=np.dot(Output0.T,first_two_hidden_layer)\n",
    "    changes_hidden_bias=np.sum(first_two_hidden_layer,axis=0,keepdims=True)\n",
    "    \n",
    "    wo=wo-lr*changes_output\n",
    "    bo=bo-lr*changes_output_bias\n",
    "    \n",
    "    wh=wh-lr*changes_hidden\n",
    "    bh=bh-lr*changes_hidden_bias\n",
    "\n",
    "Output0=X\n",
    "inputHidden=np.dot(Output0,wh)+bh\n",
    "outputHidden=sig(inputHidden)\n",
    "inputForOutputLayer=np.dot(outputHidden,wo)+bo\n",
    "Output=sig(inputForOutputLayer)\n",
    "Output,wh,bh,wo,bo\n"
   ]
  },
  {
   "cell_type": "code",
   "execution_count": null,
   "metadata": {},
   "outputs": [],
   "source": []
  }
 ],
 "metadata": {
  "kernelspec": {
   "display_name": "Python 3",
   "language": "python",
   "name": "python3"
  },
  "language_info": {
   "codemirror_mode": {
    "name": "ipython",
    "version": 3
   },
   "file_extension": ".py",
   "mimetype": "text/x-python",
   "name": "python",
   "nbconvert_exporter": "python",
   "pygments_lexer": "ipython3",
   "version": "3.7.1"
  }
 },
 "nbformat": 4,
 "nbformat_minor": 2
}
